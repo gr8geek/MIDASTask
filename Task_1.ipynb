{
  "nbformat": 4,
  "nbformat_minor": 0,
  "metadata": {
    "colab": {
      "name": "Task 1.ipynb",
      "provenance": [],
      "collapsed_sections": [],
      "toc_visible": true
    },
    "kernelspec": {
      "display_name": "Python 3",
      "name": "python3"
    },
    "language_info": {
      "name": "python"
    }
  },
  "cells": [
    {
      "cell_type": "code",
      "metadata": {
        "colab": {
          "base_uri": "https://localhost:8080/"
        },
        "id": "lZBg7dG41lhc",
        "outputId": "12b418e3-4cb1-44f9-dd86-7288ab70048f"
      },
      "source": [
        "from google.colab import drive\n",
        "drive.mount(\"/content/gdrive\")\n"
      ],
      "execution_count": null,
      "outputs": [
        {
          "output_type": "stream",
          "text": [
            "Drive already mounted at /content/gdrive; to attempt to forcibly remount, call drive.mount(\"/content/gdrive\", force_remount=True).\n"
          ],
          "name": "stdout"
        }
      ]
    },
    {
      "cell_type": "code",
      "metadata": {
        "colab": {
          "base_uri": "https://localhost:8080/"
        },
        "id": "oTDMrK5tyZtL",
        "outputId": "77b5dd0a-18a8-4bed-9589-769caf02d06e"
      },
      "source": [
        "!ls /content"
      ],
      "execution_count": null,
      "outputs": [
        {
          "output_type": "stream",
          "text": [
            "drive  gdrive  sample_data\n"
          ],
          "name": "stdout"
        }
      ]
    },
    {
      "cell_type": "code",
      "metadata": {
        "id": "9wIZokxV2g5i"
      },
      "source": [
        "import zipfile"
      ],
      "execution_count": null,
      "outputs": []
    },
    {
      "cell_type": "code",
      "metadata": {
        "id": "gFWVIa1w33bO",
        "colab": {
          "base_uri": "https://localhost:8080/",
          "height": 35
        },
        "outputId": "77bea618-f05d-4d22-f074-8830c592adb1"
      },
      "source": [
        "'''\n",
        "Uncomment the below files to Extract the zip file\n",
        "'''\n",
        "#with zipfile.ZipFile(\"/content/gdrive/MyDrive/trainPart1.zip\", 'r') as zip_ref:\n",
        "#   zip_ref.extractall(\"/content/gdrive/MyDrive\")\n"
      ],
      "execution_count": 1,
      "outputs": [
        {
          "output_type": "execute_result",
          "data": {
            "application/vnd.google.colaboratory.intrinsic+json": {
              "type": "string"
            },
            "text/plain": [
              "'\\nUncomment the below files to Extract the zip file\\n'"
            ]
          },
          "metadata": {
            "tags": []
          },
          "execution_count": 1
        }
      ]
    },
    {
      "cell_type": "code",
      "metadata": {
        "id": "ckJMrL9j4ETR"
      },
      "source": [
        "#importing the required libraries\n",
        "import pandas as pd\n",
        "import numpy as np\n",
        "import os\n",
        "import tensorflow as tf\n",
        "import cv2\n",
        "from tensorflow import keras\n",
        "from keras.layers import Dense, Input, InputLayer, Flatten\n",
        "from keras.layers import Conv2D, MaxPooling2D, Flatten, Dense, Activation, AveragePooling2D, Dropout\n",
        "from keras.models import Sequential\n",
        "\n",
        "from tensorflow.keras.models import Sequential, Model\n",
        "from  matplotlib import pyplot as plt\n",
        "import matplotlib.image as mpimg\n",
        "%matplotlib inline\n"
      ],
      "execution_count": null,
      "outputs": []
    },
    {
      "cell_type": "code",
      "metadata": {
        "id": "tZW5duKeV9q3"
      },
      "source": [
        ""
      ],
      "execution_count": null,
      "outputs": []
    },
    {
      "cell_type": "code",
      "metadata": {
        "colab": {
          "base_uri": "https://localhost:8080/",
          "height": 35
        },
        "id": "E7P5Mxoa4fke",
        "outputId": "515d80bf-fff7-4410-99d9-f60e5a34bda7"
      },
      "source": [
        "tf.__version__"
      ],
      "execution_count": null,
      "outputs": [
        {
          "output_type": "execute_result",
          "data": {
            "application/vnd.google.colaboratory.intrinsic+json": {
              "type": "string"
            },
            "text/plain": [
              "'2.4.1'"
            ]
          },
          "metadata": {
            "tags": []
          },
          "execution_count": 12
        }
      ]
    },
    {
      "cell_type": "code",
      "metadata": {
        "id": "ImWlXzw86GT2"
      },
      "source": [
        "'''\n",
        "Function name : loadImg\n",
        "loads all the images of given parent directory containing images of a paticular class name\n",
        "converts images to greyscale and then shrinks the image by applying intercubic interpolation\n",
        "Shrinks the image to 28 by 28 numpy array and normalize the array elements in range of [0,1] \n",
        "\n",
        "Params : \n",
        "  parent - parent dir\n",
        "  img_data - list of images (data)\n",
        "  class_name - list of class corresponding to images in img_data (list of label)\n",
        "  className - class name to be appended in class_name list\n",
        "returns\n",
        "  - None\n",
        "  - Returns elements via pass by reference back to the calling method/namespace\n",
        "'''\n",
        "def loadImg(parent,img_data,class_name,className):\n",
        "  print(parent)\n",
        "  test_folder=r'/content/gdrive/MyDrive/train/'+parent\n",
        "  print(test_folder)\n",
        "  val = os.listdir(test_folder)\n",
        "  print(val)\n",
        "  c = 0\n",
        "  for img in val:\n",
        "      image_path = os.path.join(test_folder,img)\n",
        "      imcv = cv2.imread(image_path)\n",
        "      gray = cv2.cvtColor(imcv, cv2.COLOR_BGR2GRAY)\n",
        "      stretch_near = cv2.resize(gray, (28, 28),interpolation = cv2.INTER_CUBIC)\n",
        "      if c==0:\n",
        "        print(className)\n",
        "        plt.imshow(stretch_near)\n",
        "      c=c+1\n",
        "      img_data.append(np.array(stretch_near)/255)\n",
        "      class_name.append(className)\n",
        "  "
      ],
      "execution_count": null,
      "outputs": []
    },
    {
      "cell_type": "code",
      "metadata": {
        "id": "Fl2EjgZd7U6A"
      },
      "source": [
        "'''\n",
        "Function name : create_dataset\n",
        "  Traverses through the dataset directory and as per the serial number number of directory assigns \n",
        "  class name and label to corresponding image in a dataset\n",
        "Params : \n",
        "  No params\n",
        "returns\n",
        "  - Returns the list containing all the images and their corresponding class label\n",
        "'''\n",
        "\n",
        "def create_dataset():\n",
        "    img_data_array=[]\n",
        "    class_name=[]\n",
        "    # perform image reading for digits\n",
        "    # each folder has 55 images\n",
        "    for i in range(1,11): #read all the digits from 0 to 9 \n",
        "      pre = \"\"\n",
        "      if(len(str(i))>1):\n",
        "        pre = \"0\"+str(i)\n",
        "      else:\n",
        "        pre = \"00\"+str(i)\n",
        "\n",
        "      parent = \"Sample\"+pre        \n",
        "      loadImg(parent,img_data_array,class_name,str(i-1))\n",
        "    for i in range(11,37): #read alphabates upper case\n",
        "      pre = \"\"\n",
        "      if(len(str(i))>1):\n",
        "        pre = \"0\"+str(i)\n",
        "      else:\n",
        "        pre = \"00\"+str(i)\n",
        "\n",
        "      parent = \"Sample\"+pre        \n",
        "      loadImg(parent,img_data_array,class_name,str(i-1))\n",
        "    for i in range(37,63): #read alphabates lower case\n",
        "      pre = \"\"\n",
        "      if(len(str(i))>1):\n",
        "        pre = \"0\"+str(i)\n",
        "      else:\n",
        "        pre = \"00\"+str(i)\n",
        "\n",
        "      parent = \"Sample\"+pre        \n",
        "      loadImg(parent,img_data_array,class_name,str(i-1))\n",
        "\n",
        "    return img_data_array, class_name\n"
      ],
      "execution_count": null,
      "outputs": []
    },
    {
      "cell_type": "code",
      "metadata": {
        "id": "Enjp6v-4gJXM"
      },
      "source": [
        ""
      ],
      "execution_count": null,
      "outputs": []
    },
    {
      "cell_type": "code",
      "metadata": {
        "colab": {
          "base_uri": "https://localhost:8080/",
          "height": 1000
        },
        "id": "q6KMFHK5F4pU",
        "outputId": "9bca2d76-5fef-4880-ab65-cc1adb389823"
      },
      "source": [
        "img_data_array, class_name = create_dataset() # creating dataset\n"
      ],
      "execution_count": null,
      "outputs": [
        {
          "output_type": "stream",
          "text": [
            "Sample001\n",
            "/content/gdrive/MyDrive/train/Sample001\n",
            "['img001-054.png', 'img001-045.png', 'img001-043.png', 'img001-027.png', 'img001-034.png', 'img001-037.png', 'img001-012.png', 'img001-019.png', 'img001-002.png', 'img001-003.png', 'img001-004.png', 'img001-047.png', 'img001-007.png', 'img001-008.png', 'img001-033.png', 'img001-011.png', 'img001-025.png', 'img001-051.png', 'img001-014.png', 'img001-016.png', 'img001-029.png', 'img001-001.png', 'img001-010.png', 'img001-053.png', 'img001-013.png', 'img001-018.png', 'img001-052.png', 'img001-046.png', 'img001-021.png', 'img001-030.png', 'img001-026.png', 'img001-009.png', 'img001-036.png', 'img001-017.png', 'img001-049.png', 'img001-050.png', 'img001-042.png', 'img001-044.png', 'img001-055.png', 'img001-024.png']\n",
            "0\n",
            "Sample002\n",
            "/content/gdrive/MyDrive/train/Sample002\n",
            "['img002-020.png', 'img002-004.png', 'img002-052.png', 'img002-006.png', 'img002-047.png', 'img002-050.png', 'img002-045.png', 'img002-048.png', 'img002-009.png', 'img002-053.png', 'img002-011.png', 'img002-034.png', 'img002-038.png', 'img002-013.png', 'img002-025.png', 'img002-024.png', 'img002-028.png', 'img002-032.png', 'img002-018.png', 'img002-001.png', 'img002-019.png', 'img002-042.png', 'img002-041.png', 'img002-007.png', 'img002-040.png', 'img002-026.png', 'img002-031.png', 'img002-043.png', 'img002-037.png', 'img002-003.png', 'img002-046.png', 'img002-010.png', 'img002-049.png', 'img002-017.png', 'img002-008.png', 'img002-021.png', 'img002-035.png', 'img002-002.png', 'img002-012.png', 'img002-055.png']\n",
            "1\n",
            "Sample003\n",
            "/content/gdrive/MyDrive/train/Sample003\n",
            "['img003-022.png', 'img003-003.png', 'img003-002.png', 'img003-054.png', 'img003-016.png', 'img003-004.png', 'img003-031.png', 'img003-027.png', 'img003-023.png', 'img003-055.png', 'img003-033.png', 'img003-042.png', 'img003-009.png', 'img003-025.png', 'img003-010.png', 'img003-040.png', 'img003-039.png', 'img003-026.png', 'img003-050.png', 'img003-012.png', 'img003-048.png', 'img003-019.png', 'img003-005.png', 'img003-037.png', 'img003-008.png', 'img003-041.png', 'img003-044.png', 'img003-011.png', 'img003-047.png', 'img003-049.png', 'img003-045.png', 'img003-028.png', 'img003-015.png', 'img003-020.png', 'img003-032.png', 'img003-053.png', 'img003-036.png', 'img003-006.png', 'img003-030.png', 'img003-017.png']\n",
            "2\n",
            "Sample004\n",
            "/content/gdrive/MyDrive/train/Sample004\n",
            "['img004-048.png', 'img004-049.png', 'img004-012.png', 'img004-002.png', 'img004-029.png', 'img004-018.png', 'img004-040.png', 'img004-039.png', 'img004-035.png', 'img004-022.png', 'img004-014.png', 'img004-009.png', 'img004-023.png', 'img004-020.png', 'img004-024.png', 'img004-026.png', 'img004-011.png', 'img004-055.png', 'img004-042.png', 'img004-044.png', 'img004-033.png', 'img004-016.png', 'img004-006.png', 'img004-001.png', 'img004-038.png', 'img004-007.png', 'img004-036.png', 'img004-047.png', 'img004-027.png', 'img004-021.png', 'img004-050.png', 'img004-003.png', 'img004-025.png', 'img004-034.png', 'img004-041.png', 'img004-030.png', 'img004-013.png', 'img004-028.png', 'img004-008.png', 'img004-031.png']\n",
            "3\n",
            "Sample005\n",
            "/content/gdrive/MyDrive/train/Sample005\n",
            "['img005-045.png', 'img005-027.png', 'img005-037.png', 'img005-038.png', 'img005-029.png', 'img005-012.png', 'img005-017.png', 'img005-013.png', 'img005-002.png', 'img005-007.png', 'img005-004.png', 'img005-009.png', 'img005-016.png', 'img005-001.png', 'img005-048.png', 'img005-055.png', 'img005-005.png', 'img005-034.png', 'img005-033.png', 'img005-011.png', 'img005-036.png', 'img005-014.png', 'img005-051.png', 'img005-025.png', 'img005-050.png', 'img005-008.png', 'img005-024.png', 'img005-049.png', 'img005-021.png', 'img005-020.png', 'img005-052.png', 'img005-031.png', 'img005-044.png', 'img005-054.png', 'img005-046.png', 'img005-032.png', 'img005-023.png', 'img005-047.png', 'img005-022.png', 'img005-042.png']\n",
            "4\n",
            "Sample006\n",
            "/content/gdrive/MyDrive/train/Sample006\n",
            "['img006-010.png', 'img006-018.png', 'img006-045.png', 'img006-005.png', 'img006-021.png', 'img006-042.png', 'img006-014.png', 'img006-036.png', 'img006-032.png', 'img006-015.png', 'img006-050.png', 'img006-030.png', 'img006-049.png', 'img006-038.png', 'img006-039.png', 'img006-006.png', 'img006-008.png', 'img006-052.png', 'img006-001.png', 'img006-026.png', 'img006-055.png', 'img006-003.png', 'img006-029.png', 'img006-041.png', 'img006-004.png', 'img006-022.png', 'img006-035.png', 'img006-027.png', 'img006-007.png', 'img006-012.png', 'img006-053.png', 'img006-024.png', 'img006-011.png', 'img006-043.png', 'img006-020.png', 'img006-009.png', 'img006-051.png', 'img006-017.png', 'img006-023.png', 'img006-025.png']\n",
            "5\n",
            "Sample007\n",
            "/content/gdrive/MyDrive/train/Sample007\n",
            "['img007-026.png', 'img007-012.png', 'img007-001.png', 'img007-011.png', 'img007-017.png', 'img007-005.png', 'img007-041.png', 'img007-034.png', 'img007-002.png', 'img007-024.png', 'img007-047.png', 'img007-003.png', 'img007-013.png', 'img007-018.png', 'img007-040.png', 'img007-031.png', 'img007-023.png', 'img007-045.png', 'img007-033.png', 'img007-032.png', 'img007-029.png', 'img007-039.png', 'img007-004.png', 'img007-042.png', 'img007-049.png', 'img007-038.png', 'img007-025.png', 'img007-015.png', 'img007-054.png', 'img007-008.png', 'img007-052.png', 'img007-019.png', 'img007-044.png', 'img007-010.png', 'img007-027.png', 'img007-046.png', 'img007-036.png', 'img007-022.png', 'img007-050.png', 'img007-014.png']\n",
            "6\n",
            "Sample008\n",
            "/content/gdrive/MyDrive/train/Sample008\n",
            "['img008-005.png', 'img008-041.png', 'img008-040.png', 'img008-039.png', 'img008-042.png', 'img008-009.png', 'img008-013.png', 'img008-016.png', 'img008-010.png', 'img008-044.png', 'img008-047.png', 'img008-014.png', 'img008-053.png', 'img008-012.png', 'img008-033.png', 'img008-046.png', 'img008-017.png', 'img008-019.png', 'img008-003.png', 'img008-029.png', 'img008-011.png', 'img008-027.png', 'img008-023.png', 'img008-034.png', 'img008-018.png', 'img008-007.png', 'img008-028.png', 'img008-032.png', 'img008-052.png', 'img008-024.png', 'img008-055.png', 'img008-026.png', 'img008-038.png', 'img008-015.png', 'img008-021.png', 'img008-002.png', 'img008-049.png', 'img008-031.png', 'img008-035.png', 'img008-008.png']\n",
            "7\n",
            "Sample009\n",
            "/content/gdrive/MyDrive/train/Sample009\n",
            "['img009-012.png', 'img009-020.png', 'img009-023.png', 'img009-045.png', 'img009-017.png', 'img009-008.png', 'img009-026.png', 'img009-035.png', 'img009-047.png', 'img009-037.png', 'img009-028.png', 'img009-001.png', 'img009-030.png', 'img009-006.png', 'img009-038.png', 'img009-029.png', 'img009-016.png', 'img009-041.png', 'img009-003.png', 'img009-042.png', 'img009-010.png', 'img009-015.png', 'img009-022.png', 'img009-040.png', 'img009-046.png', 'img009-009.png', 'img009-018.png', 'img009-039.png', 'img009-024.png', 'img009-034.png', 'img009-032.png', 'img009-005.png', 'img009-011.png', 'img009-054.png', 'img009-007.png', 'img009-051.png', 'img009-013.png', 'img009-036.png', 'img009-052.png', 'img009-049.png']\n",
            "8\n",
            "Sample010\n",
            "/content/gdrive/MyDrive/train/Sample010\n",
            "['img010-012.png', 'img010-033.png', 'img010-017.png', 'img010-018.png', 'img010-022.png', 'img010-019.png', 'img010-025.png', 'img010-028.png', 'img010-040.png', 'img010-046.png', 'img010-036.png', 'img010-043.png', 'img010-004.png', 'img010-055.png', 'img010-032.png', 'img010-014.png', 'img010-034.png', 'img010-007.png', 'img010-005.png', 'img010-037.png', 'img010-002.png', 'img010-023.png', 'img010-049.png', 'img010-020.png', 'img010-003.png', 'img010-013.png', 'img010-039.png', 'img010-041.png', 'img010-031.png', 'img010-010.png', 'img010-051.png', 'img010-008.png', 'img010-050.png', 'img010-052.png', 'img010-011.png', 'img010-047.png', 'img010-024.png', 'img010-042.png', 'img010-029.png', 'img010-054.png']\n",
            "9\n",
            "Sample011\n",
            "/content/gdrive/MyDrive/train/Sample011\n",
            "['img011-022.png', 'img011-041.png', 'img011-039.png', 'img011-037.png', 'img011-026.png', 'img011-020.png', 'img011-006.png', 'img011-003.png', 'img011-032.png', 'img011-051.png', 'img011-052.png', 'img011-007.png', 'img011-028.png', 'img011-043.png', 'img011-021.png', 'img011-013.png', 'img011-018.png', 'img011-016.png', 'img011-009.png', 'img011-005.png', 'img011-045.png', 'img011-017.png', 'img011-024.png', 'img011-004.png', 'img011-034.png', 'img011-010.png', 'img011-031.png', 'img011-055.png', 'img011-027.png', 'img011-014.png', 'img011-053.png', 'img011-048.png', 'img011-008.png', 'img011-049.png', 'img011-002.png', 'img011-030.png', 'img011-001.png', 'img011-019.png', 'img011-029.png', 'img011-036.png']\n",
            "10\n",
            "Sample012\n",
            "/content/gdrive/MyDrive/train/Sample012\n",
            "['img012-019.png', 'img012-051.png', 'img012-022.png', 'img012-015.png', 'img012-023.png', 'img012-034.png', 'img012-007.png', 'img012-018.png', 'img012-032.png', 'img012-049.png', 'img012-001.png', 'img012-025.png', 'img012-038.png', 'img012-046.png', 'img012-026.png', 'img012-006.png', 'img012-028.png', 'img012-036.png', 'img012-017.png', 'img012-016.png', 'img012-020.png', 'img012-050.png', 'img012-035.png', 'img012-039.png', 'img012-030.png', 'img012-048.png', 'img012-052.png', 'img012-047.png', 'img012-055.png', 'img012-054.png', 'img012-033.png', 'img012-009.png', 'img012-042.png', 'img012-013.png', 'img012-031.png', 'img012-040.png', 'img012-021.png', 'img012-002.png', 'img012-010.png', 'img012-011.png']\n",
            "11\n",
            "Sample013\n",
            "/content/gdrive/MyDrive/train/Sample013\n",
            "['img013-035.png', 'img013-048.png', 'img013-052.png', 'img013-024.png', 'img013-040.png', 'img013-022.png', 'img013-036.png', 'img013-047.png', 'img013-009.png', 'img013-039.png', 'img013-028.png', 'img013-007.png', 'img013-045.png', 'img013-005.png', 'img013-013.png', 'img013-018.png', 'img013-014.png', 'img013-044.png', 'img013-050.png', 'img013-054.png', 'img013-053.png', 'img013-055.png', 'img013-020.png', 'img013-042.png', 'img013-023.png', 'img013-011.png', 'img013-019.png', 'img013-026.png', 'img013-017.png', 'img013-037.png', 'img013-041.png', 'img013-038.png', 'img013-021.png', 'img013-032.png', 'img013-008.png', 'img013-034.png', 'img013-043.png', 'img013-002.png', 'img013-012.png', 'img013-016.png']\n",
            "12\n",
            "Sample014\n",
            "/content/gdrive/MyDrive/train/Sample014\n",
            "['img014-003.png', 'img014-017.png', 'img014-014.png', 'img014-045.png', 'img014-037.png', 'img014-041.png', 'img014-010.png', 'img014-035.png', 'img014-028.png', 'img014-052.png', 'img014-013.png', 'img014-039.png', 'img014-021.png', 'img014-040.png', 'img014-018.png', 'img014-042.png', 'img014-053.png', 'img014-002.png', 'img014-027.png', 'img014-016.png', 'img014-046.png', 'img014-008.png', 'img014-044.png', 'img014-001.png', 'img014-025.png', 'img014-015.png', 'img014-055.png', 'img014-009.png', 'img014-033.png', 'img014-023.png', 'img014-007.png', 'img014-043.png', 'img014-006.png', 'img014-054.png', 'img014-038.png', 'img014-032.png', 'img014-012.png', 'img014-034.png', 'img014-029.png', 'img014-004.png']\n",
            "13\n",
            "Sample015\n",
            "/content/gdrive/MyDrive/train/Sample015\n",
            "['img015-004.png', 'img015-005.png', 'img015-024.png', 'img015-054.png', 'img015-052.png', 'img015-013.png', 'img015-053.png', 'img015-043.png', 'img015-019.png', 'img015-003.png', 'img015-023.png', 'img015-021.png', 'img015-050.png', 'img015-039.png', 'img015-041.png', 'img015-034.png', 'img015-007.png', 'img015-012.png', 'img015-011.png', 'img015-033.png', 'img015-002.png', 'img015-018.png', 'img015-040.png', 'img015-006.png', 'img015-017.png', 'img015-025.png', 'img015-001.png', 'img015-032.png', 'img015-049.png', 'img015-028.png', 'img015-047.png', 'img015-016.png', 'img015-037.png', 'img015-044.png', 'img015-022.png', 'img015-015.png', 'img015-051.png', 'img015-010.png', 'img015-038.png', 'img015-008.png']\n",
            "14\n",
            "Sample016\n",
            "/content/gdrive/MyDrive/train/Sample016\n",
            "['img016-053.png', 'img016-011.png', 'img016-004.png', 'img016-005.png', 'img016-034.png', 'img016-052.png', 'img016-041.png', 'img016-009.png', 'img016-025.png', 'img016-023.png', 'img016-030.png', 'img016-037.png', 'img016-010.png', 'img016-047.png', 'img016-015.png', 'img016-046.png', 'img016-013.png', 'img016-032.png', 'img016-018.png', 'img016-055.png', 'img016-008.png', 'img016-029.png', 'img016-026.png', 'img016-036.png', 'img016-050.png', 'img016-051.png', 'img016-002.png', 'img016-054.png', 'img016-016.png', 'img016-012.png', 'img016-021.png', 'img016-003.png', 'img016-045.png', 'img016-042.png', 'img016-028.png', 'img016-031.png', 'img016-019.png', 'img016-040.png', 'img016-038.png', 'img016-014.png']\n",
            "15\n",
            "Sample017\n",
            "/content/gdrive/MyDrive/train/Sample017\n",
            "['img017-012.png', 'img017-028.png', 'img017-001.png', 'img017-025.png', 'img017-044.png', 'img017-011.png', 'img017-035.png', 'img017-033.png', 'img017-048.png', 'img017-015.png', 'img017-039.png', 'img017-021.png', 'img017-004.png', 'img017-009.png', 'img017-051.png', 'img017-007.png', 'img017-010.png', 'img017-041.png', 'img017-040.png', 'img017-045.png', 'img017-016.png', 'img017-023.png', 'img017-043.png', 'img017-030.png', 'img017-049.png', 'img017-031.png', 'img017-053.png', 'img017-003.png', 'img017-014.png', 'img017-036.png', 'img017-019.png', 'img017-055.png', 'img017-032.png', 'img017-038.png', 'img017-002.png', 'img017-047.png', 'img017-022.png', 'img017-026.png', 'img017-034.png', 'img017-006.png']\n",
            "16\n",
            "Sample018\n",
            "/content/gdrive/MyDrive/train/Sample018\n",
            "['img018-043.png', 'img018-018.png', 'img018-049.png', 'img018-004.png', 'img018-050.png', 'img018-035.png', 'img018-007.png', 'img018-002.png', 'img018-054.png', 'img018-040.png', 'img018-028.png', 'img018-024.png', 'img018-041.png', 'img018-017.png', 'img018-022.png', 'img018-027.png', 'img018-052.png', 'img018-015.png', 'img018-051.png', 'img018-036.png', 'img018-019.png', 'img018-023.png', 'img018-013.png', 'img018-026.png', 'img018-048.png', 'img018-029.png', 'img018-045.png', 'img018-001.png', 'img018-016.png', 'img018-030.png', 'img018-010.png', 'img018-009.png', 'img018-006.png', 'img018-020.png', 'img018-042.png', 'img018-021.png', 'img018-039.png', 'img018-034.png', 'img018-033.png', 'img018-012.png']\n",
            "17\n",
            "Sample019\n",
            "/content/gdrive/MyDrive/train/Sample019\n",
            "['img019-053.png', 'img019-052.png', 'img019-005.png', 'img019-039.png', 'img019-025.png', 'img019-003.png', 'img019-010.png', 'img019-023.png', 'img019-027.png', 'img019-011.png', 'img019-054.png', 'img019-055.png', 'img019-020.png', 'img019-032.png', 'img019-007.png', 'img019-041.png', 'img019-016.png', 'img019-030.png', 'img019-031.png', 'img019-046.png', 'img019-018.png', 'img019-038.png', 'img019-028.png', 'img019-008.png', 'img019-037.png', 'img019-044.png', 'img019-051.png', 'img019-034.png', 'img019-004.png', 'img019-036.png', 'img019-042.png', 'img019-050.png', 'img019-006.png', 'img019-045.png', 'img019-049.png', 'img019-047.png', 'img019-048.png', 'img019-002.png', 'img019-040.png', 'img019-001.png']\n",
            "18\n",
            "Sample020\n",
            "/content/gdrive/MyDrive/train/Sample020\n",
            "['img020-055.png', 'img020-051.png', 'img020-029.png', 'img020-018.png', 'img020-048.png', 'img020-047.png', 'img020-035.png', 'img020-041.png', 'img020-036.png', 'img020-042.png', 'img020-014.png', 'img020-013.png', 'img020-020.png', 'img020-009.png', 'img020-012.png', 'img020-026.png', 'img020-027.png', 'img020-024.png', 'img020-040.png', 'img020-053.png', 'img020-038.png', 'img020-028.png', 'img020-032.png', 'img020-025.png', 'img020-003.png', 'img020-006.png', 'img020-021.png', 'img020-037.png', 'img020-031.png', 'img020-030.png', 'img020-052.png', 'img020-015.png', 'img020-044.png', 'img020-039.png', 'img020-022.png', 'img020-005.png', 'img020-023.png', 'img020-050.png', 'img020-007.png', 'img020-046.png']\n",
            "19\n",
            "Sample021\n",
            "/content/gdrive/MyDrive/train/Sample021\n",
            "['img021-032.png', 'img021-018.png', 'img021-009.png', 'img021-054.png', 'img021-029.png', 'img021-034.png', 'img021-050.png', 'img021-008.png', 'img021-036.png', 'img021-002.png', 'img021-051.png', 'img021-023.png', 'img021-024.png', 'img021-038.png', 'img021-053.png', 'img021-011.png', 'img021-005.png', 'img021-046.png', 'img021-031.png', 'img021-035.png', 'img021-026.png', 'img021-004.png', 'img021-042.png', 'img021-021.png', 'img021-048.png', 'img021-022.png', 'img021-003.png', 'img021-052.png', 'img021-016.png', 'img021-019.png', 'img021-037.png', 'img021-041.png', 'img021-047.png', 'img021-027.png', 'img021-033.png', 'img021-044.png', 'img021-001.png', 'img021-028.png', 'img021-010.png', 'img021-040.png']\n",
            "20\n",
            "Sample022\n",
            "/content/gdrive/MyDrive/train/Sample022\n",
            "['img022-051.png', 'img022-006.png', 'img022-044.png', 'img022-027.png', 'img022-009.png', 'img022-031.png', 'img022-045.png', 'img022-008.png', 'img022-050.png', 'img022-035.png', 'img022-047.png', 'img022-052.png', 'img022-028.png', 'img022-020.png', 'img022-053.png', 'img022-048.png', 'img022-002.png', 'img022-005.png', 'img022-019.png', 'img022-038.png', 'img022-040.png', 'img022-034.png', 'img022-007.png', 'img022-039.png', 'img022-024.png', 'img022-003.png', 'img022-029.png', 'img022-018.png', 'img022-043.png', 'img022-001.png', 'img022-021.png', 'img022-049.png', 'img022-017.png', 'img022-013.png', 'img022-023.png', 'img022-011.png', 'img022-041.png', 'img022-037.png', 'img022-026.png', 'img022-010.png']\n",
            "21\n",
            "Sample023\n",
            "/content/gdrive/MyDrive/train/Sample023\n",
            "['img023-019.png', 'img023-053.png', 'img023-055.png', 'img023-040.png', 'img023-044.png', 'img023-027.png', 'img023-034.png', 'img023-038.png', 'img023-001.png', 'img023-036.png', 'img023-024.png', 'img023-007.png', 'img023-054.png', 'img023-026.png', 'img023-051.png', 'img023-009.png', 'img023-029.png', 'img023-037.png', 'img023-010.png', 'img023-018.png', 'img023-046.png', 'img023-022.png', 'img023-035.png', 'img023-047.png', 'img023-039.png', 'img023-013.png', 'img023-043.png', 'img023-003.png', 'img023-002.png', 'img023-017.png', 'img023-028.png', 'img023-052.png', 'img023-031.png', 'img023-008.png', 'img023-016.png', 'img023-012.png', 'img023-005.png', 'img023-020.png', 'img023-014.png', 'img023-049.png']\n",
            "22\n",
            "Sample024\n",
            "/content/gdrive/MyDrive/train/Sample024\n",
            "['img024-025.png', 'img024-008.png', 'img024-029.png', 'img024-034.png', 'img024-001.png', 'img024-041.png', 'img024-013.png', 'img024-035.png', 'img024-020.png', 'img024-039.png', 'img024-019.png', 'img024-017.png', 'img024-027.png', 'img024-003.png', 'img024-006.png', 'img024-030.png', 'img024-016.png', 'img024-024.png', 'img024-011.png', 'img024-014.png', 'img024-042.png', 'img024-038.png', 'img024-007.png', 'img024-037.png', 'img024-050.png', 'img024-028.png', 'img024-010.png', 'img024-055.png', 'img024-044.png', 'img024-004.png', 'img024-054.png', 'img024-033.png', 'img024-049.png', 'img024-018.png', 'img024-005.png', 'img024-002.png', 'img024-012.png', 'img024-032.png', 'img024-047.png', 'img024-048.png']\n",
            "23\n",
            "Sample025\n",
            "/content/gdrive/MyDrive/train/Sample025\n",
            "['img025-017.png', 'img025-045.png', 'img025-052.png', 'img025-046.png', 'img025-042.png', 'img025-024.png', 'img025-039.png', 'img025-054.png', 'img025-004.png', 'img025-034.png', 'img025-053.png', 'img025-023.png', 'img025-025.png', 'img025-033.png', 'img025-011.png', 'img025-044.png', 'img025-027.png', 'img025-048.png', 'img025-030.png', 'img025-050.png', 'img025-014.png', 'img025-043.png', 'img025-032.png', 'img025-051.png', 'img025-008.png', 'img025-015.png', 'img025-009.png', 'img025-038.png', 'img025-012.png', 'img025-029.png', 'img025-028.png', 'img025-019.png', 'img025-010.png', 'img025-026.png', 'img025-040.png', 'img025-016.png', 'img025-047.png', 'img025-013.png', 'img025-037.png', 'img025-001.png']\n",
            "24\n",
            "Sample026\n",
            "/content/gdrive/MyDrive/train/Sample026\n",
            "['img026-029.png', 'img026-015.png', 'img026-025.png', 'img026-022.png', 'img026-049.png', 'img026-034.png', 'img026-017.png', 'img026-020.png', 'img026-051.png', 'img026-045.png', 'img026-026.png', 'img026-010.png', 'img026-027.png', 'img026-032.png', 'img026-055.png', 'img026-003.png', 'img026-042.png', 'img026-001.png', 'img026-046.png', 'img026-023.png', 'img026-050.png', 'img026-008.png', 'img026-016.png', 'img026-043.png', 'img026-044.png', 'img026-005.png', 'img026-041.png', 'img026-054.png', 'img026-012.png', 'img026-048.png', 'img026-037.png', 'img026-028.png', 'img026-040.png', 'img026-006.png', 'img026-030.png', 'img026-009.png', 'img026-007.png', 'img026-024.png', 'img026-031.png', 'img026-013.png']\n",
            "25\n",
            "Sample027\n",
            "/content/gdrive/MyDrive/train/Sample027\n",
            "['img027-019.png', 'img027-023.png', 'img027-005.png', 'img027-007.png', 'img027-042.png', 'img027-046.png', 'img027-038.png', 'img027-040.png', 'img027-020.png', 'img027-032.png', 'img027-029.png', 'img027-026.png', 'img027-053.png', 'img027-016.png', 'img027-002.png', 'img027-051.png', 'img027-039.png', 'img027-045.png', 'img027-034.png', 'img027-015.png', 'img027-049.png', 'img027-028.png', 'img027-012.png', 'img027-025.png', 'img027-047.png', 'img027-004.png', 'img027-008.png', 'img027-054.png', 'img027-050.png', 'img027-033.png', 'img027-036.png', 'img027-018.png', 'img027-035.png', 'img027-010.png', 'img027-030.png', 'img027-021.png', 'img027-052.png', 'img027-006.png', 'img027-031.png', 'img027-017.png']\n",
            "26\n",
            "Sample028\n",
            "/content/gdrive/MyDrive/train/Sample028\n",
            "['img028-037.png', 'img028-055.png', 'img028-027.png', 'img028-046.png', 'img028-009.png', 'img028-022.png', 'img028-025.png', 'img028-017.png', 'img028-051.png', 'img028-019.png', 'img028-044.png', 'img028-006.png', 'img028-041.png', 'img028-021.png', 'img028-048.png', 'img028-016.png', 'img028-050.png', 'img028-008.png', 'img028-033.png', 'img028-028.png', 'img028-032.png', 'img028-049.png', 'img028-036.png', 'img028-035.png', 'img028-043.png', 'img028-004.png', 'img028-014.png', 'img028-040.png', 'img028-039.png', 'img028-015.png', 'img028-024.png', 'img028-010.png', 'img028-034.png', 'img028-023.png', 'img028-052.png', 'img028-030.png', 'img028-012.png', 'img028-054.png', 'img028-029.png', 'img028-038.png']\n",
            "27\n",
            "Sample029\n",
            "/content/gdrive/MyDrive/train/Sample029\n",
            "['img029-024.png', 'img029-018.png', 'img029-021.png', 'img029-002.png', 'img029-006.png', 'img029-023.png', 'img029-053.png', 'img029-020.png', 'img029-030.png', 'img029-033.png', 'img029-028.png', 'img029-047.png', 'img029-010.png', 'img029-013.png', 'img029-032.png', 'img029-055.png', 'img029-044.png', 'img029-031.png', 'img029-040.png', 'img029-034.png', 'img029-048.png', 'img029-027.png', 'img029-012.png', 'img029-015.png', 'img029-042.png', 'img029-045.png', 'img029-022.png', 'img029-011.png', 'img029-009.png', 'img029-050.png', 'img029-041.png', 'img029-003.png', 'img029-007.png', 'img029-019.png', 'img029-029.png', 'img029-054.png', 'img029-051.png', 'img029-004.png', 'img029-008.png', 'img029-036.png']\n",
            "28\n",
            "Sample030\n",
            "/content/gdrive/MyDrive/train/Sample030\n",
            "['img030-018.png', 'img030-028.png', 'img030-030.png', 'img030-037.png', 'img030-001.png', 'img030-009.png', 'img030-025.png', 'img030-012.png', 'img030-050.png', 'img030-005.png', 'img030-049.png', 'img030-004.png', 'img030-031.png', 'img030-010.png', 'img030-027.png', 'img030-040.png', 'img030-023.png', 'img030-048.png', 'img030-045.png', 'img030-021.png', 'img030-029.png', 'img030-016.png', 'img030-019.png', 'img030-036.png', 'img030-046.png', 'img030-026.png', 'img030-051.png', 'img030-052.png', 'img030-047.png', 'img030-053.png', 'img030-041.png', 'img030-039.png', 'img030-054.png', 'img030-015.png', 'img030-008.png', 'img030-011.png', 'img030-038.png', 'img030-035.png', 'img030-033.png', 'img030-034.png']\n",
            "29\n",
            "Sample031\n",
            "/content/gdrive/MyDrive/train/Sample031\n",
            "['img031-018.png', 'img031-036.png', 'img031-019.png', 'img031-043.png', 'img031-049.png', 'img031-034.png', 'img031-013.png', 'img031-045.png', 'img031-026.png', 'img031-042.png', 'img031-051.png', 'img031-053.png', 'img031-004.png', 'img031-052.png', 'img031-055.png', 'img031-008.png', 'img031-039.png', 'img031-022.png', 'img031-046.png', 'img031-016.png', 'img031-029.png', 'img031-001.png', 'img031-032.png', 'img031-009.png', 'img031-030.png', 'img031-006.png', 'img031-038.png', 'img031-033.png', 'img031-040.png', 'img031-025.png', 'img031-037.png', 'img031-050.png', 'img031-044.png', 'img031-028.png', 'img031-015.png', 'img031-014.png', 'img031-011.png', 'img031-021.png', 'img031-023.png', 'img031-047.png']\n",
            "30\n",
            "Sample032\n",
            "/content/gdrive/MyDrive/train/Sample032\n",
            "['img032-044.png', 'img032-004.png', 'img032-050.png', 'img032-049.png', 'img032-047.png', 'img032-013.png', 'img032-003.png', 'img032-028.png', 'img032-009.png', 'img032-052.png', 'img032-034.png', 'img032-051.png', 'img032-038.png', 'img032-054.png', 'img032-030.png', 'img032-020.png', 'img032-008.png', 'img032-022.png', 'img032-014.png', 'img032-055.png', 'img032-023.png', 'img032-010.png', 'img032-017.png', 'img032-019.png', 'img032-027.png', 'img032-029.png', 'img032-041.png', 'img032-039.png', 'img032-012.png', 'img032-021.png', 'img032-005.png', 'img032-046.png', 'img032-025.png', 'img032-035.png', 'img032-002.png', 'img032-024.png', 'img032-011.png', 'img032-006.png', 'img032-007.png', 'img032-026.png']\n",
            "31\n",
            "Sample033\n",
            "/content/gdrive/MyDrive/train/Sample033\n",
            "['img033-036.png', 'img033-016.png', 'img033-019.png', 'img033-049.png', 'img033-041.png', 'img033-047.png', 'img033-001.png', 'img033-003.png', 'img033-032.png', 'img033-030.png', 'img033-027.png', 'img033-014.png', 'img033-028.png', 'img033-033.png', 'img033-053.png', 'img033-044.png', 'img033-039.png', 'img033-025.png', 'img033-015.png', 'img033-052.png', 'img033-048.png', 'img033-038.png', 'img033-051.png', 'img033-037.png', 'img033-031.png', 'img033-029.png', 'img033-055.png', 'img033-022.png', 'img033-017.png', 'img033-034.png', 'img033-035.png', 'img033-054.png', 'img033-018.png', 'img033-007.png', 'img033-045.png', 'img033-040.png', 'img033-043.png', 'img033-026.png', 'img033-002.png', 'img033-012.png']\n",
            "32\n",
            "Sample034\n",
            "/content/gdrive/MyDrive/train/Sample034\n",
            "['img034-032.png', 'img034-010.png', 'img034-004.png', 'img034-001.png', 'img034-055.png', 'img034-018.png', 'img034-008.png', 'img034-023.png', 'img034-021.png', 'img034-053.png', 'img034-007.png', 'img034-048.png', 'img034-003.png', 'img034-043.png', 'img034-050.png', 'img034-046.png', 'img034-044.png', 'img034-036.png', 'img034-025.png', 'img034-028.png', 'img034-038.png', 'img034-006.png', 'img034-051.png', 'img034-011.png', 'img034-030.png', 'img034-039.png', 'img034-054.png', 'img034-042.png', 'img034-019.png', 'img034-041.png', 'img034-029.png', 'img034-031.png', 'img034-047.png', 'img034-009.png', 'img034-002.png', 'img034-040.png', 'img034-037.png', 'img034-022.png', 'img034-027.png', 'img034-049.png']\n",
            "33\n",
            "Sample035\n",
            "/content/gdrive/MyDrive/train/Sample035\n",
            "['img035-016.png', 'img035-034.png', 'img035-045.png', 'img035-022.png', 'img035-012.png', 'img035-043.png', 'img035-049.png', 'img035-029.png', 'img035-032.png', 'img035-052.png', 'img035-028.png', 'img035-040.png', 'img035-039.png', 'img035-031.png', 'img035-044.png', 'img035-015.png', 'img035-035.png', 'img035-021.png', 'img035-004.png', 'img035-042.png', 'img035-003.png', 'img035-010.png', 'img035-017.png', 'img035-020.png', 'img035-041.png', 'img035-033.png', 'img035-037.png', 'img035-048.png', 'img035-001.png', 'img035-046.png', 'img035-002.png', 'img035-019.png', 'img035-053.png', 'img035-014.png', 'img035-023.png', 'img035-036.png', 'img035-024.png', 'img035-054.png', 'img035-009.png', 'img035-038.png']\n",
            "34\n",
            "Sample036\n",
            "/content/gdrive/MyDrive/train/Sample036\n",
            "['img036-034.png', 'img036-010.png', 'img036-051.png', 'img036-002.png', 'img036-049.png', 'img036-038.png', 'img036-052.png', 'img036-033.png', 'img036-030.png', 'img036-039.png', 'img036-053.png', 'img036-043.png', 'img036-013.png', 'img036-021.png', 'img036-018.png', 'img036-023.png', 'img036-044.png', 'img036-015.png', 'img036-045.png', 'img036-001.png', 'img036-037.png', 'img036-017.png', 'img036-014.png', 'img036-003.png', 'img036-006.png', 'img036-005.png', 'img036-022.png', 'img036-035.png', 'img036-050.png', 'img036-009.png', 'img036-007.png', 'img036-026.png', 'img036-019.png', 'img036-008.png', 'img036-041.png', 'img036-047.png', 'img036-040.png', 'img036-025.png', 'img036-029.png', 'img036-027.png']\n",
            "35\n",
            "Sample037\n",
            "/content/gdrive/MyDrive/train/Sample037\n",
            "['img037-005.png', 'img037-017.png', 'img037-046.png', 'img037-022.png', 'img037-025.png', 'img037-041.png', 'img037-016.png', 'img037-002.png', 'img037-044.png', 'img037-015.png', 'img037-053.png', 'img037-043.png', 'img037-007.png', 'img037-024.png', 'img037-026.png', 'img037-030.png', 'img037-014.png', 'img037-027.png', 'img037-008.png', 'img037-036.png', 'img037-029.png', 'img037-006.png', 'img037-004.png', 'img037-048.png', 'img037-037.png', 'img037-034.png', 'img037-052.png', 'img037-020.png', 'img037-023.png', 'img037-018.png', 'img037-047.png', 'img037-001.png', 'img037-033.png', 'img037-039.png', 'img037-038.png', 'img037-031.png', 'img037-003.png', 'img037-051.png', 'img037-050.png', 'img037-045.png']\n",
            "36\n",
            "Sample038\n",
            "/content/gdrive/MyDrive/train/Sample038\n",
            "['img038-049.png', 'img038-006.png', 'img038-041.png', 'img038-001.png', 'img038-047.png', 'img038-030.png', 'img038-018.png', 'img038-052.png', 'img038-015.png', 'img038-051.png', 'img038-019.png', 'img038-040.png', 'img038-037.png', 'img038-009.png', 'img038-028.png', 'img038-044.png', 'img038-008.png', 'img038-035.png', 'img038-033.png', 'img038-022.png', 'img038-025.png', 'img038-029.png', 'img038-053.png', 'img038-012.png', 'img038-048.png', 'img038-036.png', 'img038-021.png', 'img038-003.png', 'img038-023.png', 'img038-032.png', 'img038-004.png', 'img038-011.png', 'img038-010.png', 'img038-045.png', 'img038-042.png', 'img038-024.png', 'img038-007.png', 'img038-050.png', 'img038-027.png', 'img038-020.png']\n",
            "37\n",
            "Sample039\n",
            "/content/gdrive/MyDrive/train/Sample039\n",
            "['img039-002.png', 'img039-007.png', 'img039-009.png', 'img039-001.png', 'img039-017.png', 'img039-019.png', 'img039-016.png', 'img039-043.png', 'img039-021.png', 'img039-053.png', 'img039-005.png', 'img039-010.png', 'img039-042.png', 'img039-049.png', 'img039-040.png', 'img039-041.png', 'img039-006.png', 'img039-023.png', 'img039-031.png', 'img039-022.png', 'img039-036.png', 'img039-039.png', 'img039-013.png', 'img039-024.png', 'img039-025.png', 'img039-054.png', 'img039-032.png', 'img039-018.png', 'img039-020.png', 'img039-050.png', 'img039-034.png', 'img039-029.png', 'img039-037.png', 'img039-027.png', 'img039-011.png', 'img039-026.png', 'img039-028.png', 'img039-051.png', 'img039-044.png', 'img039-038.png']\n",
            "38\n",
            "Sample040\n",
            "/content/gdrive/MyDrive/train/Sample040\n",
            "['img040-016.png', 'img040-028.png', 'img040-002.png', 'img040-050.png', 'img040-008.png', 'img040-017.png', 'img040-049.png', 'img040-048.png', 'img040-052.png', 'img040-034.png', 'img040-025.png', 'img040-029.png', 'img040-010.png', 'img040-019.png', 'img040-032.png', 'img040-030.png', 'img040-018.png', 'img040-038.png', 'img040-023.png', 'img040-007.png', 'img040-009.png', 'img040-043.png', 'img040-051.png', 'img040-021.png', 'img040-037.png', 'img040-036.png', 'img040-031.png', 'img040-026.png', 'img040-012.png', 'img040-042.png', 'img040-027.png', 'img040-045.png', 'img040-005.png', 'img040-014.png', 'img040-055.png', 'img040-047.png', 'img040-054.png', 'img040-035.png', 'img040-044.png', 'img040-046.png']\n",
            "39\n",
            "Sample041\n",
            "/content/gdrive/MyDrive/train/Sample041\n",
            "['img041-014.png', 'img041-042.png', 'img041-006.png', 'img041-035.png', 'img041-030.png', 'img041-032.png', 'img041-041.png', 'img041-055.png', 'img041-037.png', 'img041-045.png', 'img041-048.png', 'img041-040.png', 'img041-054.png', 'img041-038.png', 'img041-018.png', 'img041-036.png', 'img041-025.png', 'img041-050.png', 'img041-023.png', 'img041-011.png', 'img041-039.png', 'img041-029.png', 'img041-002.png', 'img041-004.png', 'img041-049.png', 'img041-033.png', 'img041-046.png', 'img041-021.png', 'img041-052.png', 'img041-028.png', 'img041-031.png', 'img041-024.png', 'img041-001.png', 'img041-047.png', 'img041-010.png', 'img041-009.png', 'img041-034.png', 'img041-051.png', 'img041-027.png', 'img041-005.png']\n",
            "40\n",
            "Sample042\n",
            "/content/gdrive/MyDrive/train/Sample042\n",
            "['img042-050.png', 'img042-002.png', 'img042-040.png', 'img042-033.png', 'img042-034.png', 'img042-021.png', 'img042-028.png', 'img042-051.png', 'img042-054.png', 'img042-003.png', 'img042-027.png', 'img042-044.png', 'img042-008.png', 'img042-024.png', 'img042-035.png', 'img042-031.png', 'img042-029.png', 'img042-042.png', 'img042-055.png', 'img042-038.png', 'img042-023.png', 'img042-010.png', 'img042-016.png', 'img042-025.png', 'img042-052.png', 'img042-043.png', 'img042-013.png', 'img042-007.png', 'img042-037.png', 'img042-012.png', 'img042-049.png', 'img042-018.png', 'img042-015.png', 'img042-053.png', 'img042-004.png', 'img042-045.png', 'img042-032.png', 'img042-036.png', 'img042-005.png', 'img042-006.png']\n",
            "41\n",
            "Sample043\n",
            "/content/gdrive/MyDrive/train/Sample043\n",
            "['img043-006.png', 'img043-011.png', 'img043-040.png', 'img043-002.png', 'img043-048.png', 'img043-034.png', 'img043-024.png', 'img043-029.png', 'img043-015.png', 'img043-023.png', 'img043-025.png', 'img043-043.png', 'img043-049.png', 'img043-041.png', 'img043-020.png', 'img043-008.png', 'img043-014.png', 'img043-012.png', 'img043-001.png', 'img043-031.png', 'img043-046.png', 'img043-051.png', 'img043-047.png', 'img043-033.png', 'img043-055.png', 'img043-021.png', 'img043-050.png', 'img043-004.png', 'img043-037.png', 'img043-032.png', 'img043-005.png', 'img043-009.png', 'img043-045.png', 'img043-027.png', 'img043-044.png', 'img043-007.png', 'img043-053.png', 'img043-018.png', 'img043-036.png', 'img043-017.png']\n",
            "42\n",
            "Sample044\n",
            "/content/gdrive/MyDrive/train/Sample044\n",
            "['img044-017.png', 'img044-028.png', 'img044-030.png', 'img044-025.png', 'img044-054.png', 'img044-038.png', 'img044-006.png', 'img044-015.png', 'img044-044.png', 'img044-033.png', 'img044-004.png', 'img044-019.png', 'img044-005.png', 'img044-011.png', 'img044-020.png', 'img044-051.png', 'img044-012.png', 'img044-043.png', 'img044-042.png', 'img044-026.png', 'img044-036.png', 'img044-024.png', 'img044-018.png', 'img044-010.png', 'img044-007.png', 'img044-050.png', 'img044-014.png', 'img044-032.png', 'img044-027.png', 'img044-046.png', 'img044-041.png', 'img044-040.png', 'img044-031.png', 'img044-034.png', 'img044-039.png', 'img044-002.png', 'img044-003.png', 'img044-009.png', 'img044-013.png', 'img044-037.png']\n",
            "43\n",
            "Sample045\n",
            "/content/gdrive/MyDrive/train/Sample045\n",
            "['img045-027.png', 'img045-039.png', 'img045-048.png', 'img045-009.png', 'img045-031.png', 'img045-001.png', 'img045-043.png', 'img045-040.png', 'img045-024.png', 'img045-025.png', 'img045-054.png', 'img045-030.png', 'img045-017.png', 'img045-034.png', 'img045-026.png', 'img045-055.png', 'img045-038.png', 'img045-049.png', 'img045-042.png', 'img045-035.png', 'img045-046.png', 'img045-028.png', 'img045-003.png', 'img045-037.png', 'img045-021.png', 'img045-019.png', 'img045-047.png', 'img045-005.png', 'img045-018.png', 'img045-007.png', 'img045-015.png', 'img045-010.png', 'img045-036.png', 'img045-052.png', 'img045-011.png', 'img045-050.png', 'img045-006.png', 'img045-029.png', 'img045-033.png', 'img045-013.png']\n",
            "44\n",
            "Sample046\n",
            "/content/gdrive/MyDrive/train/Sample046\n",
            "['img046-049.png', 'img046-038.png', 'img046-036.png', 'img046-021.png', 'img046-026.png', 'img046-053.png', 'img046-023.png', 'img046-048.png', 'img046-032.png', 'img046-029.png', 'img046-003.png', 'img046-035.png', 'img046-031.png', 'img046-024.png', 'img046-018.png', 'img046-015.png', 'img046-047.png', 'img046-033.png', 'img046-006.png', 'img046-054.png', 'img046-013.png', 'img046-001.png', 'img046-020.png', 'img046-039.png', 'img046-007.png', 'img046-050.png', 'img046-041.png', 'img046-004.png', 'img046-027.png', 'img046-051.png', 'img046-052.png', 'img046-017.png', 'img046-010.png', 'img046-037.png', 'img046-044.png', 'img046-030.png', 'img046-014.png', 'img046-005.png', 'img046-045.png', 'img046-046.png']\n",
            "45\n",
            "Sample047\n",
            "/content/gdrive/MyDrive/train/Sample047\n",
            "['img047-030.png', 'img047-032.png', 'img047-048.png', 'img047-045.png', 'img047-023.png', 'img047-011.png', 'img047-020.png', 'img047-016.png', 'img047-040.png', 'img047-001.png', 'img047-007.png', 'img047-008.png', 'img047-033.png', 'img047-037.png', 'img047-026.png', 'img047-052.png', 'img047-044.png', 'img047-027.png', 'img047-031.png', 'img047-042.png', 'img047-017.png', 'img047-014.png', 'img047-015.png', 'img047-046.png', 'img047-055.png', 'img047-019.png', 'img047-003.png', 'img047-041.png', 'img047-043.png', 'img047-022.png', 'img047-013.png', 'img047-047.png', 'img047-009.png', 'img047-024.png', 'img047-005.png', 'img047-034.png', 'img047-021.png', 'img047-002.png', 'img047-054.png', 'img047-050.png']\n",
            "46\n",
            "Sample048\n",
            "/content/gdrive/MyDrive/train/Sample048\n",
            "['img048-009.png', 'img048-053.png', 'img048-045.png', 'img048-047.png', 'img048-019.png', 'img048-040.png', 'img048-008.png', 'img048-001.png', 'img048-027.png', 'img048-028.png', 'img048-033.png', 'img048-026.png', 'img048-046.png', 'img048-002.png', 'img048-051.png', 'img048-023.png', 'img048-054.png', 'img048-044.png', 'img048-032.png', 'img048-022.png', 'img048-043.png', 'img048-010.png', 'img048-015.png', 'img048-012.png', 'img048-004.png', 'img048-029.png', 'img048-039.png', 'img048-055.png', 'img048-021.png', 'img048-016.png', 'img048-030.png', 'img048-018.png', 'img048-017.png', 'img048-020.png', 'img048-025.png', 'img048-035.png', 'img048-006.png', 'img048-031.png', 'img048-052.png', 'img048-007.png']\n",
            "47\n",
            "Sample049\n",
            "/content/gdrive/MyDrive/train/Sample049\n",
            "['img049-036.png', 'img049-055.png', 'img049-029.png', 'img049-031.png', 'img049-014.png', 'img049-042.png', 'img049-010.png', 'img049-032.png', 'img049-037.png', 'img049-050.png', 'img049-019.png', 'img049-026.png', 'img049-025.png', 'img049-028.png', 'img049-018.png', 'img049-041.png', 'img049-020.png', 'img049-038.png', 'img049-005.png', 'img049-004.png', 'img049-044.png', 'img049-022.png', 'img049-012.png', 'img049-052.png', 'img049-007.png', 'img049-003.png', 'img049-043.png', 'img049-024.png', 'img049-011.png', 'img049-008.png', 'img049-049.png', 'img049-053.png', 'img049-027.png', 'img049-033.png', 'img049-051.png', 'img049-047.png', 'img049-034.png', 'img049-035.png', 'img049-015.png', 'img049-054.png']\n",
            "48\n",
            "Sample050\n",
            "/content/gdrive/MyDrive/train/Sample050\n",
            "['img050-051.png', 'img050-015.png', 'img050-052.png', 'img050-014.png', 'img050-016.png', 'img050-006.png', 'img050-034.png', 'img050-048.png', 'img050-030.png', 'img050-033.png', 'img050-029.png', 'img050-027.png', 'img050-049.png', 'img050-019.png', 'img050-010.png', 'img050-007.png', 'img050-035.png', 'img050-032.png', 'img050-037.png', 'img050-043.png', 'img050-038.png', 'img050-044.png', 'img050-054.png', 'img050-045.png', 'img050-004.png', 'img050-022.png', 'img050-047.png', 'img050-055.png', 'img050-017.png', 'img050-005.png', 'img050-012.png', 'img050-024.png', 'img050-053.png', 'img050-009.png', 'img050-025.png', 'img050-023.png', 'img050-002.png', 'img050-050.png', 'img050-008.png', 'img050-003.png']\n",
            "49\n",
            "Sample051\n",
            "/content/gdrive/MyDrive/train/Sample051\n",
            "['img051-040.png', 'img051-053.png', 'img051-052.png', 'img051-015.png', 'img051-002.png', 'img051-016.png', 'img051-038.png', 'img051-013.png', 'img051-029.png', 'img051-025.png', 'img051-037.png', 'img051-031.png', 'img051-032.png', 'img051-044.png', 'img051-028.png', 'img051-012.png', 'img051-004.png', 'img051-042.png', 'img051-051.png', 'img051-017.png', 'img051-020.png', 'img051-045.png', 'img051-030.png', 'img051-014.png', 'img051-036.png', 'img051-041.png', 'img051-006.png', 'img051-008.png', 'img051-010.png', 'img051-050.png', 'img051-027.png', 'img051-001.png', 'img051-009.png', 'img051-035.png', 'img051-003.png', 'img051-054.png', 'img051-043.png', 'img051-022.png', 'img051-024.png', 'img051-039.png']\n",
            "50\n",
            "Sample052\n",
            "/content/gdrive/MyDrive/train/Sample052\n",
            "['img052-007.png', 'img052-002.png', 'img052-026.png', 'img052-036.png', 'img052-038.png', 'img052-012.png', 'img052-015.png', 'img052-044.png', 'img052-010.png', 'img052-029.png', 'img052-032.png', 'img052-005.png', 'img052-037.png', 'img052-033.png', 'img052-022.png', 'img052-011.png', 'img052-028.png', 'img052-042.png', 'img052-034.png', 'img052-046.png', 'img052-021.png', 'img052-017.png', 'img052-035.png', 'img052-025.png', 'img052-052.png', 'img052-039.png', 'img052-013.png', 'img052-009.png', 'img052-006.png', 'img052-003.png', 'img052-008.png', 'img052-047.png', 'img052-055.png', 'img052-018.png', 'img052-020.png', 'img052-049.png', 'img052-045.png', 'img052-014.png', 'img052-030.png', 'img052-027.png']\n",
            "51\n",
            "Sample053\n",
            "/content/gdrive/MyDrive/train/Sample053\n",
            "['img053-039.png', 'img053-038.png', 'img053-027.png', 'img053-001.png', 'img053-012.png', 'img053-048.png', 'img053-014.png', 'img053-007.png', 'img053-054.png', 'img053-041.png', 'img053-006.png', 'img053-047.png', 'img053-002.png', 'img053-010.png', 'img053-009.png', 'img053-025.png', 'img053-034.png', 'img053-028.png', 'img053-040.png', 'img053-011.png', 'img053-052.png', 'img053-020.png', 'img053-051.png', 'img053-030.png', 'img053-024.png', 'img053-026.png', 'img053-021.png', 'img053-033.png', 'img053-029.png', 'img053-036.png', 'img053-004.png', 'img053-023.png', 'img053-018.png', 'img053-008.png', 'img053-037.png', 'img053-043.png', 'img053-053.png', 'img053-005.png', 'img053-013.png', 'img053-017.png']\n",
            "52\n",
            "Sample054\n",
            "/content/gdrive/MyDrive/train/Sample054\n",
            "['img054-045.png', 'img054-048.png', 'img054-001.png', 'img054-022.png', 'img054-047.png', 'img054-002.png', 'img054-003.png', 'img054-037.png', 'img054-018.png', 'img054-007.png', 'img054-034.png', 'img054-006.png', 'img054-028.png', 'img054-013.png', 'img054-049.png', 'img054-054.png', 'img054-043.png', 'img054-055.png', 'img054-030.png', 'img054-015.png', 'img054-016.png', 'img054-027.png', 'img054-005.png', 'img054-008.png', 'img054-031.png', 'img054-024.png', 'img054-040.png', 'img054-041.png', 'img054-017.png', 'img054-023.png', 'img054-053.png', 'img054-012.png', 'img054-026.png', 'img054-032.png', 'img054-042.png', 'img054-019.png', 'img054-025.png', 'img054-004.png', 'img054-010.png', 'img054-050.png']\n",
            "53\n",
            "Sample055\n",
            "/content/gdrive/MyDrive/train/Sample055\n",
            "['img055-045.png', 'img055-046.png', 'img055-029.png', 'img055-028.png', 'img055-052.png', 'img055-001.png', 'img055-049.png', 'img055-026.png', 'img055-023.png', 'img055-055.png', 'img055-003.png', 'img055-011.png', 'img055-017.png', 'img055-009.png', 'img055-031.png', 'img055-040.png', 'img055-008.png', 'img055-034.png', 'img055-019.png', 'img055-038.png', 'img055-020.png', 'img055-037.png', 'img055-021.png', 'img055-025.png', 'img055-014.png', 'img055-016.png', 'img055-039.png', 'img055-044.png', 'img055-053.png', 'img055-010.png', 'img055-048.png', 'img055-042.png', 'img055-027.png', 'img055-036.png', 'img055-005.png', 'img055-032.png', 'img055-012.png', 'img055-002.png', 'img055-004.png', 'img055-022.png']\n",
            "54\n",
            "Sample056\n",
            "/content/gdrive/MyDrive/train/Sample056\n",
            "['img056-014.png', 'img056-027.png', 'img056-022.png', 'img056-009.png', 'img056-047.png', 'img056-040.png', 'img056-011.png', 'img056-050.png', 'img056-024.png', 'img056-052.png', 'img056-021.png', 'img056-049.png', 'img056-005.png', 'img056-010.png', 'img056-006.png', 'img056-008.png', 'img056-019.png', 'img056-053.png', 'img056-023.png', 'img056-030.png', 'img056-002.png', 'img056-054.png', 'img056-020.png', 'img056-038.png', 'img056-048.png', 'img056-051.png', 'img056-036.png', 'img056-015.png', 'img056-035.png', 'img056-003.png', 'img056-032.png', 'img056-007.png', 'img056-016.png', 'img056-046.png', 'img056-033.png', 'img056-042.png', 'img056-013.png', 'img056-031.png', 'img056-004.png', 'img056-039.png']\n",
            "55\n",
            "Sample057\n",
            "/content/gdrive/MyDrive/train/Sample057\n",
            "['img057-007.png', 'img057-040.png', 'img057-042.png', 'img057-027.png', 'img057-046.png', 'img057-016.png', 'img057-014.png', 'img057-031.png', 'img057-009.png', 'img057-023.png', 'img057-013.png', 'img057-015.png', 'img057-055.png', 'img057-019.png', 'img057-025.png', 'img057-038.png', 'img057-049.png', 'img057-010.png', 'img057-032.png', 'img057-043.png', 'img057-005.png', 'img057-002.png', 'img057-053.png', 'img057-029.png', 'img057-039.png', 'img057-044.png', 'img057-003.png', 'img057-033.png', 'img057-020.png', 'img057-022.png', 'img057-034.png', 'img057-001.png', 'img057-028.png', 'img057-037.png', 'img057-050.png', 'img057-017.png', 'img057-047.png', 'img057-012.png', 'img057-026.png', 'img057-052.png']\n",
            "56\n",
            "Sample058\n",
            "/content/gdrive/MyDrive/train/Sample058\n",
            "['img058-036.png', 'img058-026.png', 'img058-023.png', 'img058-016.png', 'img058-003.png', 'img058-053.png', 'img058-050.png', 'img058-054.png', 'img058-005.png', 'img058-047.png', 'img058-019.png', 'img058-045.png', 'img058-042.png', 'img058-030.png', 'img058-048.png', 'img058-032.png', 'img058-025.png', 'img058-021.png', 'img058-013.png', 'img058-051.png', 'img058-011.png', 'img058-015.png', 'img058-012.png', 'img058-004.png', 'img058-002.png', 'img058-035.png', 'img058-024.png', 'img058-038.png', 'img058-022.png', 'img058-034.png', 'img058-017.png', 'img058-052.png', 'img058-008.png', 'img058-041.png', 'img058-040.png', 'img058-014.png', 'img058-046.png', 'img058-010.png', 'img058-009.png', 'img058-020.png']\n",
            "57\n",
            "Sample059\n",
            "/content/gdrive/MyDrive/train/Sample059\n",
            "['img059-006.png', 'img059-007.png', 'img059-030.png', 'img059-043.png', 'img059-047.png', 'img059-045.png', 'img059-042.png', 'img059-044.png', 'img059-038.png', 'img059-005.png', 'img059-016.png', 'img059-024.png', 'img059-025.png', 'img059-041.png', 'img059-036.png', 'img059-017.png', 'img059-040.png', 'img059-002.png', 'img059-031.png', 'img059-050.png', 'img059-054.png', 'img059-008.png', 'img059-046.png', 'img059-003.png', 'img059-053.png', 'img059-026.png', 'img059-001.png', 'img059-015.png', 'img059-048.png', 'img059-032.png', 'img059-035.png', 'img059-029.png', 'img059-009.png', 'img059-027.png', 'img059-023.png', 'img059-012.png', 'img059-021.png', 'img059-039.png', 'img059-034.png', 'img059-033.png']\n",
            "58\n",
            "Sample060\n",
            "/content/gdrive/MyDrive/train/Sample060\n",
            "['img060-019.png', 'img060-023.png', 'img060-018.png', 'img060-002.png', 'img060-001.png', 'img060-055.png', 'img060-014.png', 'img060-026.png', 'img060-046.png', 'img060-050.png', 'img060-024.png', 'img060-036.png', 'img060-052.png', 'img060-010.png', 'img060-004.png', 'img060-020.png', 'img060-032.png', 'img060-044.png', 'img060-051.png', 'img060-033.png', 'img060-029.png', 'img060-017.png', 'img060-053.png', 'img060-035.png', 'img060-028.png', 'img060-043.png', 'img060-047.png', 'img060-022.png', 'img060-038.png', 'img060-007.png', 'img060-039.png', 'img060-030.png', 'img060-031.png', 'img060-016.png', 'img060-013.png', 'img060-034.png', 'img060-003.png', 'img060-037.png', 'img060-008.png', 'img060-048.png']\n",
            "59\n",
            "Sample061\n",
            "/content/gdrive/MyDrive/train/Sample061\n",
            "['img061-054.png', 'img061-040.png', 'img061-052.png', 'img061-005.png', 'img061-051.png', 'img061-028.png', 'img061-023.png', 'img061-004.png', 'img061-046.png', 'img061-055.png', 'img061-012.png', 'img061-018.png', 'img061-006.png', 'img061-016.png', 'img061-020.png', 'img061-044.png', 'img061-036.png', 'img061-053.png', 'img061-001.png', 'img061-015.png', 'img061-007.png', 'img061-035.png', 'img061-032.png', 'img061-009.png', 'img061-029.png', 'img061-025.png', 'img061-050.png', 'img061-041.png', 'img061-037.png', 'img061-010.png', 'img061-031.png', 'img061-042.png', 'img061-047.png', 'img061-030.png', 'img061-014.png', 'img061-027.png', 'img061-008.png', 'img061-019.png', 'img061-049.png', 'img061-026.png']\n",
            "60\n",
            "Sample062\n",
            "/content/gdrive/MyDrive/train/Sample062\n",
            "['img062-022.png', 'img062-033.png', 'img062-050.png', 'img062-003.png', 'img062-006.png', 'img062-037.png', 'img062-021.png', 'img062-055.png', 'img062-040.png', 'img062-007.png', 'img062-038.png', 'img062-004.png', 'img062-001.png', 'img062-005.png', 'img062-044.png', 'img062-046.png', 'img062-014.png', 'img062-035.png', 'img062-026.png', 'img062-032.png', 'img062-027.png', 'img062-023.png', 'img062-047.png', 'img062-042.png', 'img062-039.png', 'img062-025.png', 'img062-010.png', 'img062-043.png', 'img062-030.png', 'img062-011.png', 'img062-013.png', 'img062-049.png', 'img062-002.png', 'img062-008.png', 'img062-034.png', 'img062-041.png', 'img062-012.png', 'img062-048.png', 'img062-020.png', 'img062-053.png']\n",
            "61\n"
          ],
          "name": "stdout"
        },
        {
          "output_type": "display_data",
          "data": {
            "image/png": "[encoded data removed]",
            "text/plain": [
              "<Figure size 432x288 with 1 Axes>"
            ]
          },
          "metadata": {
            "tags": [],
            "needs_background": "light"
          }
        }
      ]
    },
    {
      "cell_type": "code",
      "metadata": {
        "id": "gTjlB-IQMMCA"
      },
      "source": [
        "  img_data = np.array(img_data_array) #converting img_data to a numpy vector"
      ],
      "execution_count": null,
      "outputs": []
    },
    {
      "cell_type": "code",
      "metadata": {
        "colab": {
          "base_uri": "https://localhost:8080/"
        },
        "id": "4__MKVrQVa1D",
        "outputId": "e0d7acb4-112e-44ee-9da9-939b7cd97da3"
      },
      "source": [
        "len(class_name)"
      ],
      "execution_count": null,
      "outputs": [
        {
          "output_type": "execute_result",
          "data": {
            "text/plain": [
              "2480"
            ]
          },
          "metadata": {
            "tags": []
          },
          "execution_count": 13
        }
      ]
    },
    {
      "cell_type": "code",
      "metadata": {
        "id": "u3ZeoZWTRNN0"
      },
      "source": [
        "label_data = np.array(list(map(int,class_name))) #converting the class label to numpy vector"
      ],
      "execution_count": null,
      "outputs": []
    },
    {
      "cell_type": "code",
      "metadata": {
        "colab": {
          "base_uri": "https://localhost:8080/"
        },
        "id": "KEp_e3NsR9rS",
        "outputId": "7fe35b8e-0da3-40c6-b20e-094cbf3ec2c4"
      },
      "source": [
        "label_data.shape # checking for shape"
      ],
      "execution_count": null,
      "outputs": [
        {
          "output_type": "execute_result",
          "data": {
            "text/plain": [
              "(2480,)"
            ]
          },
          "metadata": {
            "tags": []
          },
          "execution_count": 18
        }
      ]
    },
    {
      "cell_type": "code",
      "metadata": {
        "id": "iYFu1AhRSNlB"
      },
      "source": [
        "img_data=img_data.reshape(len(img_data),28,28,1)\n",
        "# reshaping the input "
      ],
      "execution_count": null,
      "outputs": []
    },
    {
      "cell_type": "code",
      "metadata": {
        "id": "0yqs1G99-wbx"
      },
      "source": [
        "#pkfile = open(\"/content/gdrive/MyDrive/Task1Pk/mydata.pkl\",\"wb\") #dumping the loaded processed image "
      ],
      "execution_count": null,
      "outputs": []
    },
    {
      "cell_type": "code",
      "metadata": {
        "id": "hNnbPUrA_hsi"
      },
      "source": [
        "#code for dumping the preprocessed data in a pickle file\n",
        "'''\n",
        "datadict = {}\n",
        "datadict[\"img\"] = img_data\n",
        "datadict[\"class\"] = label_data\n",
        "\n",
        "import pickle\n",
        "pickle.dump(datadict,pkfile)\n",
        "'''\n",
        "# code for loading the pickle dump o processed data\n",
        "#uncomment for loading the data insted of loading the data\n",
        "'''\n",
        "import pickle\n",
        "\n",
        "f = open('/content/gdrive/MyDrive/Task1Pk/mydata.pkl', 'rb') \n",
        "dict_data = pickle.load(f)\n",
        "'''"
      ],
      "execution_count": null,
      "outputs": []
    },
    {
      "cell_type": "code",
      "metadata": {
        "id": "prFifwcQMNj3"
      },
      "source": [
        "kernel_size = 3   # Length of the 2d convolution kernel is taken as 3\n",
        "max_pool = 2      # size of max pooling window\n",
        "EPOCHS = 70                                  # Number of epochs\n",
        "batch_size = 32                              # Batch size\n",
        "iteration_per_epoc = len(img_data) // batch_size  \n",
        "validations_per_epoc = len(label_data) // batch_size     "
      ],
      "execution_count": null,
      "outputs": []
    },
    {
      "cell_type": "code",
      "metadata": {
        "colab": {
          "base_uri": "https://localhost:8080/"
        },
        "id": "NOty0PonMgKW",
        "outputId": "34858fb9-4ad0-4155-bea2-41410bc72c82"
      },
      "source": [
        "model = Sequential()\n",
        "#first layer\n",
        "model.add(Conv2D(batch_size, (kernel_size, kernel_size), activation='relu', padding='same', input_shape=(28, 18, 1))) \n",
        "model.add(MaxPooling2D((max_pool, max_pool))) \n",
        "#second layer\n",
        "model.add(Conv2D(2*batch_size, (kernel_size, kernel_size), activation='relu', padding='same')) \n",
        "model.add(MaxPooling2D((max_pool, max_pool))) \n",
        "#third layer\n",
        "model.add(Conv2D(4*batch_size, (kernel_size, kernel_size), activation='relu', padding='same')) \n",
        "model.add(MaxPooling2D((max_pool, max_pool))) \n",
        "#fourth layer\n",
        "model.add(Conv2D(4*batch_size, (kernel_size, kernel_size), activation='relu', padding='same')) \n",
        "model.add(AveragePooling2D(pool_size= (2, 2), strides= (2, 2))) \n",
        "\n",
        "model.add(Flatten())\n",
        "model.add(Dropout(0.5))\n",
        "model.add(Dense(32*batch_size, activation='relu'))                                             \n",
        "model.add(Dense(63, activation='softmax'))\n",
        "model.summary()"
      ],
      "execution_count": null,
      "outputs": [
        {
          "output_type": "stream",
          "text": [
            "Model: \"sequential\"\n",
            "_________________________________________________________________\n",
            "Layer (type)                 Output Shape              Param #   \n",
            "=================================================================\n",
            "conv2d (Conv2D)              (None, 28, 18, 32)        320       \n",
            "_________________________________________________________________\n",
            "max_pooling2d (MaxPooling2D) (None, 14, 9, 32)         0         \n",
            "_________________________________________________________________\n",
            "conv2d_1 (Conv2D)            (None, 14, 9, 64)         18496     \n",
            "_________________________________________________________________\n",
            "max_pooling2d_1 (MaxPooling2 (None, 7, 4, 64)          0         \n",
            "_________________________________________________________________\n",
            "conv2d_2 (Conv2D)            (None, 7, 4, 128)         73856     \n",
            "_________________________________________________________________\n",
            "max_pooling2d_2 (MaxPooling2 (None, 3, 2, 128)         0         \n",
            "_________________________________________________________________\n",
            "conv2d_3 (Conv2D)            (None, 3, 2, 128)         147584    \n",
            "_________________________________________________________________\n",
            "average_pooling2d (AveragePo (None, 1, 1, 128)         0         \n",
            "_________________________________________________________________\n",
            "flatten (Flatten)            (None, 128)               0         \n",
            "_________________________________________________________________\n",
            "dropout (Dropout)            (None, 128)               0         \n",
            "_________________________________________________________________\n",
            "dense (Dense)                (None, 1024)              132096    \n",
            "_________________________________________________________________\n",
            "dense_1 (Dense)              (None, 63)                64575     \n",
            "=================================================================\n",
            "Total params: 436,927\n",
            "Trainable params: 436,927\n",
            "Non-trainable params: 0\n",
            "_________________________________________________________________\n"
          ],
          "name": "stdout"
        }
      ]
    },
    {
      "cell_type": "markdown",
      "metadata": {
        "id": "v9Xqi6TAaU3q"
      },
      "source": [
        "**Citations**\n",
        "\n",
        "\n",
        "- https://towardsdatascience.com/vgg-neural-networks-the-next-step-after-alexnet-3f91fa9ffe2c\n",
        "\n",
        "- https://www.tensorflow.org/tutorials/images/cnn\n",
        "\n",
        "- https://www.tensorflow.org/api_docs/python/tf/keras/layers/AveragePooling2D\n",
        "\n",
        "- https://www.tensorflow.org/api_docs/python/tf/keras/layers/Conv2D\n",
        "\n",
        "- https://www.tensorflow.org/tutorials/images/data_augmentation\n"
      ]
    },
    {
      "cell_type": "markdown",
      "metadata": {
        "id": "8Qcbpg0Texk0"
      },
      "source": [
        "Performing image augumentation so as to increase the number of training examples and thus generate different orientation of images and this this would increase the accuracy of the convolutional neural network"
      ]
    },
    {
      "cell_type": "code",
      "metadata": {
        "id": "fM1MZGKWT0m0"
      },
      "source": [
        "from keras.preprocessing.image import ImageDataGenerator\n",
        "\n",
        "train_datagen = ImageDataGenerator(              \n",
        "        zoom_range=0.1,\n",
        "        width_shift_range=0.1,\n",
        "        height_shift_range=0.1,\n",
        "        shear_range=0.2,\n",
        "        horizontal_flip=True\n",
        "        )\n",
        "\n",
        "val_datagen = ImageDataGenerator()                # for val/testing only rescaling function "
      ],
      "execution_count": null,
      "outputs": []
    },
    {
      "cell_type": "code",
      "metadata": {
        "id": "BE1hsontUzwb"
      },
      "source": [
        "train_gen = train_datagen.flow(img_data, label_data, batch_size=batch_size)\n",
        "#val_gen = val_datagen.flow(X_val, y_val, batch_size=batch_size)"
      ],
      "execution_count": null,
      "outputs": []
    },
    {
      "cell_type": "code",
      "metadata": {
        "id": "TaKsW3_dW5qu"
      },
      "source": [
        "model.compile(optimizer='adam',loss='sparse_categorical_crossentropy',metrics=['accuracy'])"
      ],
      "execution_count": null,
      "outputs": []
    },
    {
      "cell_type": "code",
      "metadata": {
        "colab": {
          "base_uri": "https://localhost:8080/"
        },
        "id": "-jmA66Mf7bQe",
        "outputId": "82982e54-0ed8-461d-9ea4-e415ca27f447"
      },
      "source": [
        "!pip install visualkeras #install visual keras\n"
      ],
      "execution_count": null,
      "outputs": [
        {
          "output_type": "stream",
          "text": [
            "Collecting visualkeras\n",
            "  Downloading https://files.pythonhosted.org/packages/3c/7d/86ba86f710378e753ed690048710bf917b9121b7c6c5f5b07ec5323c4adc/visualkeras-0.0.1-py3-none-any.whl\n",
            "Requirement already satisfied: pillow>=6.2.0 in /usr/local/lib/python3.7/dist-packages (from visualkeras) (7.1.2)\n",
            "Installing collected packages: visualkeras\n",
            "Successfully installed visualkeras-0.0.1\n"
          ],
          "name": "stdout"
        }
      ]
    },
    {
      "cell_type": "code",
      "metadata": {
        "colab": {
          "base_uri": "https://localhost:8080/",
          "height": 127
        },
        "id": "T_WPU8_U7lyG",
        "outputId": "fb3bb581-4526-4c61-e78d-df49dbbf22b6"
      },
      "source": [
        "import visualkeras\n",
        "\n",
        "visualkeras.layered_view(model).show() \n",
        "visualkeras.layered_view(model)\n"
      ],
      "execution_count": null,
      "outputs": [
        {
          "output_type": "execute_result",
          "data": {
            "image/png": "[encoded data removed]",
            "text/plain": [
              "<PIL.Image.Image image mode=RGBA size=475x110 at 0x7F9FEACF9E90>"
            ]
          },
          "metadata": {
            "tags": []
          },
          "execution_count": 27
        }
      ]
    },
    {
      "cell_type": "markdown",
      "metadata": {
        "id": "DTvkMATOT1aa"
      },
      "source": [
        "Visual representation of the CNN\n"
      ]
    },
    {
      "cell_type": "code",
      "metadata": {
        "colab": {
          "base_uri": "https://localhost:8080/"
        },
        "id": "owS-nbga4RPn",
        "outputId": "60eba981-a65a-4c5b-ded8-e1fa4d0485ca"
      },
      "source": [
        "m = model.fit_generator(\n",
        "       train_gen,\n",
        "       steps_per_epoch= iteration_per_epoc,\n",
        "       epochs=300, \n",
        "       verbose = 1 ,# Verbosity mode. 0 = silent, 1 = progress bar, 2 = one line per epoch.\n",
        "       shuffle = True\n",
        "       )"
      ],
      "execution_count": null,
      "outputs": [
        {
          "output_type": "stream",
          "text": [
            "/usr/local/lib/python3.7/dist-packages/tensorflow/python/keras/engine/training.py:1844: UserWarning: `Model.fit_generator` is deprecated and will be removed in a future version. Please use `Model.fit`, which supports generators.\n",
            "  warnings.warn('`Model.fit_generator` is deprecated and '\n"
          ],
          "name": "stderr"
        },
        {
          "output_type": "stream",
          "text": [
            "Epoch 1/300\n",
            "77/77 [==============================] - 34s 14ms/step - loss: 4.1454 - accuracy: 0.0127\n",
            "Epoch 2/300\n",
            "77/77 [==============================] - 1s 11ms/step - loss: 4.1396 - accuracy: 0.0173\n",
            "Epoch 3/300\n",
            "77/77 [==============================] - 1s 11ms/step - loss: 4.1355 - accuracy: 0.0190\n",
            "Epoch 4/300\n",
            "77/77 [==============================] - 1s 11ms/step - loss: 4.1338 - accuracy: 0.0146\n",
            "Epoch 5/300\n",
            "77/77 [==============================] - 1s 12ms/step - loss: 4.1328 - accuracy: 0.0194\n",
            "Epoch 6/300\n",
            "77/77 [==============================] - 1s 11ms/step - loss: 4.1306 - accuracy: 0.0152\n",
            "Epoch 7/300\n",
            "77/77 [==============================] - 1s 11ms/step - loss: 4.0544 - accuracy: 0.0267\n",
            "Epoch 8/300\n",
            "77/77 [==============================] - 1s 11ms/step - loss: 3.8378 - accuracy: 0.0529\n",
            "Epoch 9/300\n",
            "77/77 [==============================] - 1s 10ms/step - loss: 3.5479 - accuracy: 0.0741\n",
            "Epoch 10/300\n",
            "77/77 [==============================] - 1s 10ms/step - loss: 3.3797 - accuracy: 0.0712\n",
            "Epoch 11/300\n",
            "77/77 [==============================] - 1s 10ms/step - loss: 3.2564 - accuracy: 0.0954\n",
            "Epoch 12/300\n",
            "77/77 [==============================] - 1s 11ms/step - loss: 3.1629 - accuracy: 0.1185\n",
            "Epoch 13/300\n",
            "77/77 [==============================] - 1s 11ms/step - loss: 2.9645 - accuracy: 0.1536\n",
            "Epoch 14/300\n",
            "77/77 [==============================] - 1s 11ms/step - loss: 2.7914 - accuracy: 0.1999\n",
            "Epoch 15/300\n",
            "77/77 [==============================] - 1s 11ms/step - loss: 2.5324 - accuracy: 0.2650\n",
            "Epoch 16/300\n",
            "77/77 [==============================] - 1s 11ms/step - loss: 2.3736 - accuracy: 0.2868\n",
            "Epoch 17/300\n",
            "77/77 [==============================] - 1s 11ms/step - loss: 2.3436 - accuracy: 0.2877\n",
            "Epoch 18/300\n",
            "77/77 [==============================] - 1s 11ms/step - loss: 2.2810 - accuracy: 0.2906\n",
            "Epoch 19/300\n",
            "77/77 [==============================] - 1s 11ms/step - loss: 2.1730 - accuracy: 0.3252\n",
            "Epoch 20/300\n",
            "77/77 [==============================] - 1s 11ms/step - loss: 2.0686 - accuracy: 0.3285\n",
            "Epoch 21/300\n",
            "77/77 [==============================] - 1s 11ms/step - loss: 2.0273 - accuracy: 0.3586\n",
            "Epoch 22/300\n",
            "77/77 [==============================] - 1s 11ms/step - loss: 1.9583 - accuracy: 0.3871\n",
            "Epoch 23/300\n",
            "77/77 [==============================] - 1s 11ms/step - loss: 1.9323 - accuracy: 0.3756\n",
            "Epoch 24/300\n",
            "77/77 [==============================] - 1s 12ms/step - loss: 1.8573 - accuracy: 0.4102\n",
            "Epoch 25/300\n",
            "77/77 [==============================] - 1s 12ms/step - loss: 1.8456 - accuracy: 0.4081\n",
            "Epoch 26/300\n",
            "77/77 [==============================] - 1s 11ms/step - loss: 1.8145 - accuracy: 0.4309\n",
            "Epoch 27/300\n",
            "77/77 [==============================] - 1s 11ms/step - loss: 1.7991 - accuracy: 0.4150\n",
            "Epoch 28/300\n",
            "77/77 [==============================] - 1s 11ms/step - loss: 1.7384 - accuracy: 0.4335\n",
            "Epoch 29/300\n",
            "77/77 [==============================] - 1s 11ms/step - loss: 1.7099 - accuracy: 0.4437\n",
            "Epoch 30/300\n",
            "77/77 [==============================] - 1s 11ms/step - loss: 1.6832 - accuracy: 0.4489\n",
            "Epoch 31/300\n",
            "77/77 [==============================] - 1s 11ms/step - loss: 1.6084 - accuracy: 0.4642\n",
            "Epoch 32/300\n",
            "77/77 [==============================] - 1s 11ms/step - loss: 1.5802 - accuracy: 0.4919\n",
            "Epoch 33/300\n",
            "77/77 [==============================] - 1s 11ms/step - loss: 1.5794 - accuracy: 0.4880\n",
            "Epoch 34/300\n",
            "77/77 [==============================] - 1s 11ms/step - loss: 1.5868 - accuracy: 0.4822\n",
            "Epoch 35/300\n",
            "77/77 [==============================] - 1s 11ms/step - loss: 1.5881 - accuracy: 0.4561\n",
            "Epoch 36/300\n",
            "77/77 [==============================] - 1s 11ms/step - loss: 1.5910 - accuracy: 0.4695\n",
            "Epoch 37/300\n",
            "77/77 [==============================] - 1s 11ms/step - loss: 1.6114 - accuracy: 0.4594\n",
            "Epoch 38/300\n",
            "77/77 [==============================] - 1s 11ms/step - loss: 1.4917 - accuracy: 0.5011\n",
            "Epoch 39/300\n",
            "77/77 [==============================] - 1s 11ms/step - loss: 1.5317 - accuracy: 0.4748\n",
            "Epoch 40/300\n",
            "77/77 [==============================] - 1s 11ms/step - loss: 1.4896 - accuracy: 0.4962\n",
            "Epoch 41/300\n",
            "77/77 [==============================] - 1s 11ms/step - loss: 1.4982 - accuracy: 0.5109\n",
            "Epoch 42/300\n",
            "77/77 [==============================] - 1s 11ms/step - loss: 1.4362 - accuracy: 0.5125\n",
            "Epoch 43/300\n",
            "77/77 [==============================] - 1s 11ms/step - loss: 1.4330 - accuracy: 0.5254\n",
            "Epoch 44/300\n",
            "77/77 [==============================] - 1s 11ms/step - loss: 1.4465 - accuracy: 0.5107\n",
            "Epoch 45/300\n",
            "77/77 [==============================] - 1s 11ms/step - loss: 1.3464 - accuracy: 0.5617\n",
            "Epoch 46/300\n",
            "77/77 [==============================] - 1s 11ms/step - loss: 1.3722 - accuracy: 0.5473\n",
            "Epoch 47/300\n",
            "77/77 [==============================] - 1s 11ms/step - loss: 1.4033 - accuracy: 0.5248\n",
            "Epoch 48/300\n",
            "77/77 [==============================] - 1s 11ms/step - loss: 1.3990 - accuracy: 0.5361\n",
            "Epoch 49/300\n",
            "77/77 [==============================] - 1s 11ms/step - loss: 1.4142 - accuracy: 0.5425\n",
            "Epoch 50/300\n",
            "77/77 [==============================] - 1s 11ms/step - loss: 1.3449 - accuracy: 0.5723\n",
            "Epoch 51/300\n",
            "77/77 [==============================] - 1s 11ms/step - loss: 1.3636 - accuracy: 0.5537\n",
            "Epoch 52/300\n",
            "77/77 [==============================] - 1s 11ms/step - loss: 1.3073 - accuracy: 0.5632\n",
            "Epoch 53/300\n",
            "77/77 [==============================] - 1s 11ms/step - loss: 1.3788 - accuracy: 0.5480\n",
            "Epoch 54/300\n",
            "77/77 [==============================] - 1s 11ms/step - loss: 1.3232 - accuracy: 0.5527\n",
            "Epoch 55/300\n",
            "77/77 [==============================] - 1s 11ms/step - loss: 1.2949 - accuracy: 0.5567\n",
            "Epoch 56/300\n",
            "77/77 [==============================] - 1s 10ms/step - loss: 1.2652 - accuracy: 0.5890\n",
            "Epoch 57/300\n",
            "77/77 [==============================] - 1s 11ms/step - loss: 1.3103 - accuracy: 0.5782\n",
            "Epoch 58/300\n",
            "77/77 [==============================] - 1s 11ms/step - loss: 1.2103 - accuracy: 0.6112\n",
            "Epoch 59/300\n",
            "77/77 [==============================] - 1s 11ms/step - loss: 1.3403 - accuracy: 0.5540\n",
            "Epoch 60/300\n",
            "77/77 [==============================] - 1s 11ms/step - loss: 1.2645 - accuracy: 0.5818\n",
            "Epoch 61/300\n",
            "77/77 [==============================] - 1s 11ms/step - loss: 1.2438 - accuracy: 0.5675\n",
            "Epoch 62/300\n",
            "77/77 [==============================] - 1s 11ms/step - loss: 1.2573 - accuracy: 0.5522\n",
            "Epoch 63/300\n",
            "77/77 [==============================] - 1s 11ms/step - loss: 1.2385 - accuracy: 0.5822\n",
            "Epoch 64/300\n",
            "77/77 [==============================] - 1s 11ms/step - loss: 1.2331 - accuracy: 0.5753\n",
            "Epoch 65/300\n",
            "77/77 [==============================] - 1s 11ms/step - loss: 1.2526 - accuracy: 0.5691\n",
            "Epoch 66/300\n",
            "77/77 [==============================] - 1s 11ms/step - loss: 1.1864 - accuracy: 0.5813\n",
            "Epoch 67/300\n",
            "77/77 [==============================] - 1s 11ms/step - loss: 1.2079 - accuracy: 0.5823\n",
            "Epoch 68/300\n",
            "77/77 [==============================] - 1s 11ms/step - loss: 1.1820 - accuracy: 0.5984\n",
            "Epoch 69/300\n",
            "77/77 [==============================] - 1s 11ms/step - loss: 1.2222 - accuracy: 0.5733\n",
            "Epoch 70/300\n",
            "77/77 [==============================] - 1s 11ms/step - loss: 1.1850 - accuracy: 0.6018\n",
            "Epoch 71/300\n",
            "77/77 [==============================] - 1s 10ms/step - loss: 1.1340 - accuracy: 0.6136\n",
            "Epoch 72/300\n",
            "77/77 [==============================] - 1s 11ms/step - loss: 1.2324 - accuracy: 0.5894\n",
            "Epoch 73/300\n",
            "77/77 [==============================] - 1s 11ms/step - loss: 1.2088 - accuracy: 0.5950\n",
            "Epoch 74/300\n",
            "77/77 [==============================] - 1s 11ms/step - loss: 1.1820 - accuracy: 0.5948\n",
            "Epoch 75/300\n",
            "77/77 [==============================] - 1s 11ms/step - loss: 1.1372 - accuracy: 0.6183\n",
            "Epoch 76/300\n",
            "77/77 [==============================] - 1s 11ms/step - loss: 1.1782 - accuracy: 0.5910\n",
            "Epoch 77/300\n",
            "77/77 [==============================] - 1s 11ms/step - loss: 1.2027 - accuracy: 0.5822\n",
            "Epoch 78/300\n",
            "77/77 [==============================] - 1s 11ms/step - loss: 1.1774 - accuracy: 0.6041\n",
            "Epoch 79/300\n",
            "77/77 [==============================] - 1s 11ms/step - loss: 1.1252 - accuracy: 0.6091\n",
            "Epoch 80/300\n",
            "77/77 [==============================] - 1s 11ms/step - loss: 1.0847 - accuracy: 0.6528\n",
            "Epoch 81/300\n",
            "77/77 [==============================] - 1s 11ms/step - loss: 1.1680 - accuracy: 0.6048\n",
            "Epoch 82/300\n",
            "77/77 [==============================] - 1s 11ms/step - loss: 1.1554 - accuracy: 0.6097\n",
            "Epoch 83/300\n",
            "77/77 [==============================] - 1s 11ms/step - loss: 1.1085 - accuracy: 0.6142\n",
            "Epoch 84/300\n",
            "77/77 [==============================] - 1s 11ms/step - loss: 1.0655 - accuracy: 0.6302\n",
            "Epoch 85/300\n",
            "77/77 [==============================] - 1s 11ms/step - loss: 1.1124 - accuracy: 0.6151\n",
            "Epoch 86/300\n",
            "77/77 [==============================] - 1s 11ms/step - loss: 1.0593 - accuracy: 0.6385\n",
            "Epoch 87/300\n",
            "77/77 [==============================] - 1s 11ms/step - loss: 1.0779 - accuracy: 0.6387\n",
            "Epoch 88/300\n",
            "77/77 [==============================] - 1s 11ms/step - loss: 1.0909 - accuracy: 0.6186\n",
            "Epoch 89/300\n",
            "77/77 [==============================] - 1s 11ms/step - loss: 1.0975 - accuracy: 0.6314\n",
            "Epoch 90/300\n",
            "77/77 [==============================] - 1s 11ms/step - loss: 1.0690 - accuracy: 0.6373\n",
            "Epoch 91/300\n",
            "77/77 [==============================] - 1s 11ms/step - loss: 1.0454 - accuracy: 0.6472\n",
            "Epoch 92/300\n",
            "77/77 [==============================] - 1s 11ms/step - loss: 1.0295 - accuracy: 0.6288\n",
            "Epoch 93/300\n",
            "77/77 [==============================] - 1s 11ms/step - loss: 1.0050 - accuracy: 0.6491\n",
            "Epoch 94/300\n",
            "77/77 [==============================] - 1s 11ms/step - loss: 1.0084 - accuracy: 0.6391\n",
            "Epoch 95/300\n",
            "77/77 [==============================] - 1s 11ms/step - loss: 1.0890 - accuracy: 0.6284\n",
            "Epoch 96/300\n",
            "77/77 [==============================] - 1s 12ms/step - loss: 1.0900 - accuracy: 0.6481\n",
            "Epoch 97/300\n",
            "77/77 [==============================] - 1s 11ms/step - loss: 1.0345 - accuracy: 0.6451\n",
            "Epoch 98/300\n",
            "77/77 [==============================] - 1s 11ms/step - loss: 1.0886 - accuracy: 0.6232\n",
            "Epoch 99/300\n",
            "77/77 [==============================] - 1s 11ms/step - loss: 1.0142 - accuracy: 0.6571\n",
            "Epoch 100/300\n",
            "77/77 [==============================] - 1s 11ms/step - loss: 1.0480 - accuracy: 0.6184\n",
            "Epoch 101/300\n",
            "77/77 [==============================] - 1s 11ms/step - loss: 0.9525 - accuracy: 0.6742\n",
            "Epoch 102/300\n",
            "77/77 [==============================] - 1s 11ms/step - loss: 1.0054 - accuracy: 0.6586\n",
            "Epoch 103/300\n",
            "77/77 [==============================] - 1s 11ms/step - loss: 1.0358 - accuracy: 0.6317\n",
            "Epoch 104/300\n",
            "77/77 [==============================] - 1s 11ms/step - loss: 1.0131 - accuracy: 0.6445\n",
            "Epoch 105/300\n",
            "77/77 [==============================] - 1s 11ms/step - loss: 0.9782 - accuracy: 0.6618\n",
            "Epoch 106/300\n",
            "77/77 [==============================] - 1s 11ms/step - loss: 0.9709 - accuracy: 0.6535\n",
            "Epoch 107/300\n",
            "77/77 [==============================] - 1s 11ms/step - loss: 0.9621 - accuracy: 0.6648\n",
            "Epoch 108/300\n",
            "77/77 [==============================] - 1s 11ms/step - loss: 0.9931 - accuracy: 0.6579\n",
            "Epoch 109/300\n",
            "77/77 [==============================] - 1s 11ms/step - loss: 0.9717 - accuracy: 0.6571\n",
            "Epoch 110/300\n",
            "77/77 [==============================] - 1s 11ms/step - loss: 0.9786 - accuracy: 0.6671\n",
            "Epoch 111/300\n",
            "77/77 [==============================] - 1s 11ms/step - loss: 1.0257 - accuracy: 0.6504\n",
            "Epoch 112/300\n",
            "77/77 [==============================] - 1s 11ms/step - loss: 0.9457 - accuracy: 0.6767\n",
            "Epoch 113/300\n",
            "77/77 [==============================] - 1s 11ms/step - loss: 0.9940 - accuracy: 0.6526\n",
            "Epoch 114/300\n",
            "77/77 [==============================] - 1s 11ms/step - loss: 0.9399 - accuracy: 0.6674\n",
            "Epoch 115/300\n",
            "77/77 [==============================] - 1s 11ms/step - loss: 0.9642 - accuracy: 0.6581\n",
            "Epoch 116/300\n",
            "77/77 [==============================] - 1s 11ms/step - loss: 1.0614 - accuracy: 0.6537\n",
            "Epoch 117/300\n",
            "77/77 [==============================] - 1s 11ms/step - loss: 0.9593 - accuracy: 0.6744\n",
            "Epoch 118/300\n",
            "77/77 [==============================] - 1s 11ms/step - loss: 1.0201 - accuracy: 0.6439\n",
            "Epoch 119/300\n",
            "77/77 [==============================] - 1s 11ms/step - loss: 0.9070 - accuracy: 0.6776\n",
            "Epoch 120/300\n",
            "77/77 [==============================] - 1s 11ms/step - loss: 0.9294 - accuracy: 0.6802\n",
            "Epoch 121/300\n",
            "77/77 [==============================] - 1s 11ms/step - loss: 0.9175 - accuracy: 0.6899\n",
            "Epoch 122/300\n",
            "77/77 [==============================] - 1s 11ms/step - loss: 0.9836 - accuracy: 0.6649\n",
            "Epoch 123/300\n",
            "77/77 [==============================] - 1s 11ms/step - loss: 0.9280 - accuracy: 0.6741\n",
            "Epoch 124/300\n",
            "77/77 [==============================] - 1s 11ms/step - loss: 0.9419 - accuracy: 0.6882\n",
            "Epoch 125/300\n",
            "77/77 [==============================] - 1s 11ms/step - loss: 0.9703 - accuracy: 0.6619\n",
            "Epoch 126/300\n",
            "77/77 [==============================] - 1s 11ms/step - loss: 0.9475 - accuracy: 0.6632\n",
            "Epoch 127/300\n",
            "77/77 [==============================] - 1s 11ms/step - loss: 0.9231 - accuracy: 0.6793\n",
            "Epoch 128/300\n",
            "77/77 [==============================] - 1s 11ms/step - loss: 0.9720 - accuracy: 0.6584\n",
            "Epoch 129/300\n",
            "77/77 [==============================] - 1s 11ms/step - loss: 0.9517 - accuracy: 0.6713\n",
            "Epoch 130/300\n",
            "77/77 [==============================] - 1s 11ms/step - loss: 0.9502 - accuracy: 0.6636\n",
            "Epoch 131/300\n",
            "77/77 [==============================] - 1s 11ms/step - loss: 0.9719 - accuracy: 0.6591\n",
            "Epoch 132/300\n",
            "77/77 [==============================] - 1s 11ms/step - loss: 0.9213 - accuracy: 0.6747\n",
            "Epoch 133/300\n",
            "77/77 [==============================] - 1s 11ms/step - loss: 0.9094 - accuracy: 0.6858\n",
            "Epoch 134/300\n",
            "77/77 [==============================] - 1s 11ms/step - loss: 0.9536 - accuracy: 0.6780\n",
            "Epoch 135/300\n",
            "77/77 [==============================] - 1s 11ms/step - loss: 0.9150 - accuracy: 0.6819\n",
            "Epoch 136/300\n",
            "77/77 [==============================] - 1s 11ms/step - loss: 0.9204 - accuracy: 0.6811\n",
            "Epoch 137/300\n",
            "77/77 [==============================] - 1s 11ms/step - loss: 0.8925 - accuracy: 0.6852\n",
            "Epoch 138/300\n",
            "77/77 [==============================] - 1s 11ms/step - loss: 0.8824 - accuracy: 0.6691\n",
            "Epoch 139/300\n",
            "77/77 [==============================] - 1s 11ms/step - loss: 0.9392 - accuracy: 0.6707\n",
            "Epoch 140/300\n",
            "77/77 [==============================] - 1s 11ms/step - loss: 0.9293 - accuracy: 0.6797\n",
            "Epoch 141/300\n",
            "77/77 [==============================] - 1s 11ms/step - loss: 0.9092 - accuracy: 0.6859\n",
            "Epoch 142/300\n",
            "77/77 [==============================] - 1s 11ms/step - loss: 0.8885 - accuracy: 0.6753\n",
            "Epoch 143/300\n",
            "77/77 [==============================] - 1s 11ms/step - loss: 0.9081 - accuracy: 0.6804\n",
            "Epoch 144/300\n",
            "77/77 [==============================] - 1s 11ms/step - loss: 0.9133 - accuracy: 0.6810\n",
            "Epoch 145/300\n",
            "77/77 [==============================] - 1s 11ms/step - loss: 0.8605 - accuracy: 0.7041\n",
            "Epoch 146/300\n",
            "77/77 [==============================] - 1s 11ms/step - loss: 0.8900 - accuracy: 0.6876\n",
            "Epoch 147/300\n",
            "77/77 [==============================] - 1s 11ms/step - loss: 0.8599 - accuracy: 0.6945\n",
            "Epoch 148/300\n",
            "77/77 [==============================] - 1s 11ms/step - loss: 0.8984 - accuracy: 0.7012\n",
            "Epoch 149/300\n",
            "77/77 [==============================] - 1s 11ms/step - loss: 0.8768 - accuracy: 0.7031\n",
            "Epoch 150/300\n",
            "77/77 [==============================] - 1s 11ms/step - loss: 0.8989 - accuracy: 0.6861\n",
            "Epoch 151/300\n",
            "77/77 [==============================] - 1s 11ms/step - loss: 0.8662 - accuracy: 0.6862\n",
            "Epoch 152/300\n",
            "77/77 [==============================] - 1s 11ms/step - loss: 0.9073 - accuracy: 0.6823\n",
            "Epoch 153/300\n",
            "77/77 [==============================] - 1s 11ms/step - loss: 0.8442 - accuracy: 0.7137\n",
            "Epoch 154/300\n",
            "77/77 [==============================] - 1s 11ms/step - loss: 0.8237 - accuracy: 0.7184\n",
            "Epoch 155/300\n",
            "77/77 [==============================] - 1s 11ms/step - loss: 0.8619 - accuracy: 0.6857\n",
            "Epoch 156/300\n",
            "77/77 [==============================] - 1s 11ms/step - loss: 0.8823 - accuracy: 0.6977\n",
            "Epoch 157/300\n",
            "77/77 [==============================] - 1s 11ms/step - loss: 0.8983 - accuracy: 0.6899\n",
            "Epoch 158/300\n",
            "77/77 [==============================] - 1s 11ms/step - loss: 0.8257 - accuracy: 0.7157\n",
            "Epoch 159/300\n",
            "77/77 [==============================] - 1s 11ms/step - loss: 0.8250 - accuracy: 0.6942\n",
            "Epoch 160/300\n",
            "77/77 [==============================] - 1s 11ms/step - loss: 0.8091 - accuracy: 0.7305\n",
            "Epoch 161/300\n",
            "77/77 [==============================] - 1s 11ms/step - loss: 0.8442 - accuracy: 0.7059\n",
            "Epoch 162/300\n",
            "77/77 [==============================] - 1s 11ms/step - loss: 0.8691 - accuracy: 0.6916\n",
            "Epoch 163/300\n",
            "77/77 [==============================] - 1s 11ms/step - loss: 0.8737 - accuracy: 0.6897\n",
            "Epoch 164/300\n",
            "77/77 [==============================] - 1s 11ms/step - loss: 0.8379 - accuracy: 0.7065\n",
            "Epoch 165/300\n",
            "77/77 [==============================] - 1s 11ms/step - loss: 0.8492 - accuracy: 0.6878\n",
            "Epoch 166/300\n",
            "77/77 [==============================] - 1s 11ms/step - loss: 0.8151 - accuracy: 0.7200\n",
            "Epoch 167/300\n",
            "77/77 [==============================] - 1s 11ms/step - loss: 0.8313 - accuracy: 0.6974\n",
            "Epoch 168/300\n",
            "77/77 [==============================] - 1s 11ms/step - loss: 0.8405 - accuracy: 0.7032\n",
            "Epoch 169/300\n",
            "77/77 [==============================] - 1s 11ms/step - loss: 0.8491 - accuracy: 0.6972\n",
            "Epoch 170/300\n",
            "77/77 [==============================] - 1s 11ms/step - loss: 0.8257 - accuracy: 0.7037\n",
            "Epoch 171/300\n",
            "77/77 [==============================] - 1s 11ms/step - loss: 0.8581 - accuracy: 0.7018\n",
            "Epoch 172/300\n",
            "77/77 [==============================] - 1s 11ms/step - loss: 0.8566 - accuracy: 0.6965\n",
            "Epoch 173/300\n",
            "77/77 [==============================] - 1s 11ms/step - loss: 0.8092 - accuracy: 0.7162\n",
            "Epoch 174/300\n",
            "77/77 [==============================] - 1s 11ms/step - loss: 0.8170 - accuracy: 0.7167\n",
            "Epoch 175/300\n",
            "77/77 [==============================] - 1s 11ms/step - loss: 0.8503 - accuracy: 0.6988\n",
            "Epoch 176/300\n",
            "77/77 [==============================] - 1s 11ms/step - loss: 0.8391 - accuracy: 0.7056\n",
            "Epoch 177/300\n",
            "77/77 [==============================] - 1s 11ms/step - loss: 0.8546 - accuracy: 0.7000\n",
            "Epoch 178/300\n",
            "77/77 [==============================] - 1s 11ms/step - loss: 0.8546 - accuracy: 0.7024\n",
            "Epoch 179/300\n",
            "77/77 [==============================] - 1s 11ms/step - loss: 0.8290 - accuracy: 0.7206\n",
            "Epoch 180/300\n",
            "77/77 [==============================] - 1s 11ms/step - loss: 0.8502 - accuracy: 0.6887\n",
            "Epoch 181/300\n",
            "77/77 [==============================] - 1s 11ms/step - loss: 0.8451 - accuracy: 0.7164\n",
            "Epoch 182/300\n",
            "77/77 [==============================] - 1s 11ms/step - loss: 0.8428 - accuracy: 0.6927\n",
            "Epoch 183/300\n",
            "77/77 [==============================] - 1s 11ms/step - loss: 0.8393 - accuracy: 0.6994\n",
            "Epoch 184/300\n",
            "77/77 [==============================] - 1s 11ms/step - loss: 0.7882 - accuracy: 0.7151\n",
            "Epoch 185/300\n",
            "77/77 [==============================] - 1s 11ms/step - loss: 0.8723 - accuracy: 0.6947\n",
            "Epoch 186/300\n",
            "77/77 [==============================] - 1s 11ms/step - loss: 0.8538 - accuracy: 0.6878\n",
            "Epoch 187/300\n",
            "77/77 [==============================] - 1s 11ms/step - loss: 0.7522 - accuracy: 0.7172\n",
            "Epoch 188/300\n",
            "77/77 [==============================] - 1s 11ms/step - loss: 0.7643 - accuracy: 0.7319\n",
            "Epoch 189/300\n",
            "77/77 [==============================] - 1s 11ms/step - loss: 0.8454 - accuracy: 0.7039\n",
            "Epoch 190/300\n",
            "77/77 [==============================] - 1s 11ms/step - loss: 0.8256 - accuracy: 0.7194\n",
            "Epoch 191/300\n",
            "77/77 [==============================] - 1s 11ms/step - loss: 0.8074 - accuracy: 0.7041\n",
            "Epoch 192/300\n",
            "77/77 [==============================] - 1s 11ms/step - loss: 0.8113 - accuracy: 0.7029\n",
            "Epoch 193/300\n",
            "77/77 [==============================] - 1s 11ms/step - loss: 0.7720 - accuracy: 0.7283\n",
            "Epoch 194/300\n",
            "77/77 [==============================] - 1s 11ms/step - loss: 0.7953 - accuracy: 0.7239\n",
            "Epoch 195/300\n",
            "77/77 [==============================] - 1s 11ms/step - loss: 0.7658 - accuracy: 0.7305\n",
            "Epoch 196/300\n",
            "77/77 [==============================] - 1s 11ms/step - loss: 0.8001 - accuracy: 0.7222\n",
            "Epoch 197/300\n",
            "77/77 [==============================] - 1s 11ms/step - loss: 0.8331 - accuracy: 0.7144\n",
            "Epoch 198/300\n",
            "77/77 [==============================] - 1s 11ms/step - loss: 0.7885 - accuracy: 0.7328\n",
            "Epoch 199/300\n",
            "77/77 [==============================] - 1s 11ms/step - loss: 0.8137 - accuracy: 0.7095\n",
            "Epoch 200/300\n",
            "77/77 [==============================] - 1s 11ms/step - loss: 0.8170 - accuracy: 0.7071\n",
            "Epoch 201/300\n",
            "77/77 [==============================] - 1s 11ms/step - loss: 0.7953 - accuracy: 0.7259\n",
            "Epoch 202/300\n",
            "77/77 [==============================] - 1s 11ms/step - loss: 0.7362 - accuracy: 0.7375\n",
            "Epoch 203/300\n",
            "77/77 [==============================] - 1s 11ms/step - loss: 0.7795 - accuracy: 0.7271\n",
            "Epoch 204/300\n",
            "77/77 [==============================] - 1s 11ms/step - loss: 0.7603 - accuracy: 0.7329\n",
            "Epoch 205/300\n",
            "77/77 [==============================] - 1s 11ms/step - loss: 0.7758 - accuracy: 0.7282\n",
            "Epoch 206/300\n",
            "77/77 [==============================] - 1s 11ms/step - loss: 0.7787 - accuracy: 0.7233\n",
            "Epoch 207/300\n",
            "77/77 [==============================] - 1s 11ms/step - loss: 0.7344 - accuracy: 0.7351\n",
            "Epoch 208/300\n",
            "77/77 [==============================] - 1s 11ms/step - loss: 0.7751 - accuracy: 0.7283\n",
            "Epoch 209/300\n",
            "77/77 [==============================] - 1s 11ms/step - loss: 0.7394 - accuracy: 0.7293\n",
            "Epoch 210/300\n",
            "77/77 [==============================] - 1s 11ms/step - loss: 0.8214 - accuracy: 0.7154\n",
            "Epoch 211/300\n",
            "77/77 [==============================] - 1s 11ms/step - loss: 0.7826 - accuracy: 0.7183\n",
            "Epoch 212/300\n",
            "77/77 [==============================] - 1s 11ms/step - loss: 0.8280 - accuracy: 0.7106\n",
            "Epoch 213/300\n",
            "77/77 [==============================] - 1s 11ms/step - loss: 0.7881 - accuracy: 0.7181\n",
            "Epoch 214/300\n",
            "77/77 [==============================] - 1s 11ms/step - loss: 0.8289 - accuracy: 0.7061\n",
            "Epoch 215/300\n",
            "77/77 [==============================] - 1s 11ms/step - loss: 0.7687 - accuracy: 0.7217\n",
            "Epoch 216/300\n",
            "77/77 [==============================] - 1s 11ms/step - loss: 0.7207 - accuracy: 0.7498\n",
            "Epoch 217/300\n",
            "77/77 [==============================] - 1s 11ms/step - loss: 0.7322 - accuracy: 0.7475\n",
            "Epoch 218/300\n",
            "77/77 [==============================] - 1s 11ms/step - loss: 0.7612 - accuracy: 0.7463\n",
            "Epoch 219/300\n",
            "77/77 [==============================] - 1s 11ms/step - loss: 0.7829 - accuracy: 0.7193\n",
            "Epoch 220/300\n",
            "77/77 [==============================] - 1s 11ms/step - loss: 0.8077 - accuracy: 0.7192\n",
            "Epoch 221/300\n",
            "77/77 [==============================] - 1s 11ms/step - loss: 0.7243 - accuracy: 0.7477\n",
            "Epoch 222/300\n",
            "77/77 [==============================] - 1s 11ms/step - loss: 0.7345 - accuracy: 0.7303\n",
            "Epoch 223/300\n",
            "77/77 [==============================] - 1s 11ms/step - loss: 0.7210 - accuracy: 0.7363\n",
            "Epoch 224/300\n",
            "77/77 [==============================] - 1s 11ms/step - loss: 0.7512 - accuracy: 0.7386\n",
            "Epoch 225/300\n",
            "77/77 [==============================] - 1s 11ms/step - loss: 0.7124 - accuracy: 0.7499\n",
            "Epoch 226/300\n",
            "77/77 [==============================] - 1s 11ms/step - loss: 0.7237 - accuracy: 0.7486\n",
            "Epoch 227/300\n",
            "77/77 [==============================] - 1s 11ms/step - loss: 0.7362 - accuracy: 0.7365\n",
            "Epoch 228/300\n",
            "77/77 [==============================] - 1s 11ms/step - loss: 0.8001 - accuracy: 0.7134\n",
            "Epoch 229/300\n",
            "77/77 [==============================] - 1s 11ms/step - loss: 0.7826 - accuracy: 0.7328\n",
            "Epoch 230/300\n",
            "77/77 [==============================] - 1s 11ms/step - loss: 0.7081 - accuracy: 0.7437\n",
            "Epoch 231/300\n",
            "77/77 [==============================] - 1s 11ms/step - loss: 0.7366 - accuracy: 0.7448\n",
            "Epoch 232/300\n",
            "77/77 [==============================] - 1s 11ms/step - loss: 0.7489 - accuracy: 0.7360\n",
            "Epoch 233/300\n",
            "77/77 [==============================] - 1s 11ms/step - loss: 0.7283 - accuracy: 0.7211\n",
            "Epoch 234/300\n",
            "77/77 [==============================] - 1s 11ms/step - loss: 0.7354 - accuracy: 0.7382\n",
            "Epoch 235/300\n",
            "77/77 [==============================] - 1s 11ms/step - loss: 0.7162 - accuracy: 0.7468\n",
            "Epoch 236/300\n",
            "77/77 [==============================] - 1s 11ms/step - loss: 0.7208 - accuracy: 0.7430\n",
            "Epoch 237/300\n",
            "77/77 [==============================] - 1s 11ms/step - loss: 0.7260 - accuracy: 0.7357\n",
            "Epoch 238/300\n",
            "77/77 [==============================] - 1s 11ms/step - loss: 0.7393 - accuracy: 0.7485\n",
            "Epoch 239/300\n",
            "77/77 [==============================] - 1s 11ms/step - loss: 0.7212 - accuracy: 0.7298\n",
            "Epoch 240/300\n",
            "77/77 [==============================] - 1s 11ms/step - loss: 0.7408 - accuracy: 0.7217\n",
            "Epoch 241/300\n",
            "77/77 [==============================] - 1s 11ms/step - loss: 0.7610 - accuracy: 0.7474\n",
            "Epoch 242/300\n",
            "77/77 [==============================] - 1s 11ms/step - loss: 0.7443 - accuracy: 0.7333\n",
            "Epoch 243/300\n",
            "77/77 [==============================] - 1s 11ms/step - loss: 0.7542 - accuracy: 0.7268\n",
            "Epoch 244/300\n",
            "77/77 [==============================] - 1s 11ms/step - loss: 0.7568 - accuracy: 0.7322\n",
            "Epoch 245/300\n",
            "77/77 [==============================] - 1s 11ms/step - loss: 0.7144 - accuracy: 0.7532\n",
            "Epoch 246/300\n",
            "77/77 [==============================] - 1s 11ms/step - loss: 0.7298 - accuracy: 0.7376\n",
            "Epoch 247/300\n",
            "77/77 [==============================] - 1s 11ms/step - loss: 0.7523 - accuracy: 0.7351\n",
            "Epoch 248/300\n",
            "77/77 [==============================] - 1s 11ms/step - loss: 0.7095 - accuracy: 0.7346\n",
            "Epoch 249/300\n",
            "77/77 [==============================] - 1s 11ms/step - loss: 0.7178 - accuracy: 0.7429\n",
            "Epoch 250/300\n",
            "77/77 [==============================] - 1s 11ms/step - loss: 0.7039 - accuracy: 0.7487\n",
            "Epoch 251/300\n",
            "77/77 [==============================] - 1s 11ms/step - loss: 0.7443 - accuracy: 0.7409\n",
            "Epoch 252/300\n",
            "77/77 [==============================] - 1s 11ms/step - loss: 0.6758 - accuracy: 0.7469\n",
            "Epoch 253/300\n",
            "77/77 [==============================] - 1s 11ms/step - loss: 0.7043 - accuracy: 0.7549\n",
            "Epoch 254/300\n",
            "77/77 [==============================] - 1s 11ms/step - loss: 0.7361 - accuracy: 0.7398\n",
            "Epoch 255/300\n",
            "77/77 [==============================] - 1s 11ms/step - loss: 0.6951 - accuracy: 0.7463\n",
            "Epoch 256/300\n",
            "77/77 [==============================] - 1s 11ms/step - loss: 0.7633 - accuracy: 0.7423\n",
            "Epoch 257/300\n",
            "77/77 [==============================] - 1s 11ms/step - loss: 0.7426 - accuracy: 0.7286\n",
            "Epoch 258/300\n",
            "77/77 [==============================] - 1s 11ms/step - loss: 0.7103 - accuracy: 0.7424\n",
            "Epoch 259/300\n",
            "77/77 [==============================] - 1s 11ms/step - loss: 0.7102 - accuracy: 0.7427\n",
            "Epoch 260/300\n",
            "77/77 [==============================] - 1s 11ms/step - loss: 0.7255 - accuracy: 0.7356\n",
            "Epoch 261/300\n",
            "77/77 [==============================] - 1s 11ms/step - loss: 0.7382 - accuracy: 0.7368\n",
            "Epoch 262/300\n",
            "77/77 [==============================] - 1s 11ms/step - loss: 0.6885 - accuracy: 0.7587\n",
            "Epoch 263/300\n",
            "77/77 [==============================] - 1s 11ms/step - loss: 0.7298 - accuracy: 0.7455\n",
            "Epoch 264/300\n",
            "77/77 [==============================] - 1s 11ms/step - loss: 0.6392 - accuracy: 0.7618\n",
            "Epoch 265/300\n",
            "77/77 [==============================] - 1s 11ms/step - loss: 0.6544 - accuracy: 0.7541\n",
            "Epoch 266/300\n",
            "77/77 [==============================] - 1s 11ms/step - loss: 0.7004 - accuracy: 0.7396\n",
            "Epoch 267/300\n",
            "77/77 [==============================] - 1s 11ms/step - loss: 0.7372 - accuracy: 0.7373\n",
            "Epoch 268/300\n",
            "77/77 [==============================] - 1s 11ms/step - loss: 0.7619 - accuracy: 0.7322\n",
            "Epoch 269/300\n",
            "77/77 [==============================] - 1s 11ms/step - loss: 0.6827 - accuracy: 0.7514\n",
            "Epoch 270/300\n",
            "77/77 [==============================] - 1s 11ms/step - loss: 0.7229 - accuracy: 0.7371\n",
            "Epoch 271/300\n",
            "77/77 [==============================] - 1s 11ms/step - loss: 0.7022 - accuracy: 0.7506\n",
            "Epoch 272/300\n",
            "77/77 [==============================] - 1s 11ms/step - loss: 0.6970 - accuracy: 0.7384\n",
            "Epoch 273/300\n",
            "77/77 [==============================] - 1s 11ms/step - loss: 0.7211 - accuracy: 0.7449\n",
            "Epoch 274/300\n",
            "77/77 [==============================] - 1s 11ms/step - loss: 0.7314 - accuracy: 0.7470\n",
            "Epoch 275/300\n",
            "77/77 [==============================] - 1s 11ms/step - loss: 0.6863 - accuracy: 0.7432\n",
            "Epoch 276/300\n",
            "77/77 [==============================] - 1s 11ms/step - loss: 0.6920 - accuracy: 0.7489\n",
            "Epoch 277/300\n",
            "77/77 [==============================] - 1s 11ms/step - loss: 0.7009 - accuracy: 0.7372\n",
            "Epoch 278/300\n",
            "77/77 [==============================] - 1s 11ms/step - loss: 0.7272 - accuracy: 0.7330\n",
            "Epoch 279/300\n",
            "77/77 [==============================] - 1s 11ms/step - loss: 0.6595 - accuracy: 0.7577\n",
            "Epoch 280/300\n",
            "77/77 [==============================] - 1s 11ms/step - loss: 0.6963 - accuracy: 0.7657\n",
            "Epoch 281/300\n",
            "77/77 [==============================] - 1s 11ms/step - loss: 0.6752 - accuracy: 0.7602\n",
            "Epoch 282/300\n",
            "77/77 [==============================] - 1s 11ms/step - loss: 0.7046 - accuracy: 0.7421\n",
            "Epoch 283/300\n",
            "77/77 [==============================] - 1s 11ms/step - loss: 0.6931 - accuracy: 0.7571\n",
            "Epoch 284/300\n",
            "77/77 [==============================] - 1s 11ms/step - loss: 0.7504 - accuracy: 0.7328\n",
            "Epoch 285/300\n",
            "77/77 [==============================] - 1s 11ms/step - loss: 0.7215 - accuracy: 0.7438\n",
            "Epoch 286/300\n",
            "77/77 [==============================] - 1s 11ms/step - loss: 0.6600 - accuracy: 0.7719\n",
            "Epoch 287/300\n",
            "77/77 [==============================] - 1s 11ms/step - loss: 0.7017 - accuracy: 0.7547\n",
            "Epoch 288/300\n",
            "77/77 [==============================] - 1s 11ms/step - loss: 0.7234 - accuracy: 0.7390\n",
            "Epoch 289/300\n",
            "77/77 [==============================] - 1s 11ms/step - loss: 0.7094 - accuracy: 0.7420\n",
            "Epoch 290/300\n",
            "77/77 [==============================] - 1s 11ms/step - loss: 0.6894 - accuracy: 0.7475\n",
            "Epoch 291/300\n",
            "77/77 [==============================] - 1s 11ms/step - loss: 0.6962 - accuracy: 0.7538\n",
            "Epoch 292/300\n",
            "77/77 [==============================] - 1s 11ms/step - loss: 0.7189 - accuracy: 0.7375\n",
            "Epoch 293/300\n",
            "77/77 [==============================] - 1s 11ms/step - loss: 0.7204 - accuracy: 0.7292\n",
            "Epoch 294/300\n",
            "77/77 [==============================] - 1s 11ms/step - loss: 0.6719 - accuracy: 0.7541\n",
            "Epoch 295/300\n",
            "77/77 [==============================] - 1s 11ms/step - loss: 0.6732 - accuracy: 0.7443\n",
            "Epoch 296/300\n",
            "77/77 [==============================] - 1s 11ms/step - loss: 0.6917 - accuracy: 0.7644\n",
            "Epoch 297/300\n",
            "77/77 [==============================] - 1s 11ms/step - loss: 0.6715 - accuracy: 0.7534\n",
            "Epoch 298/300\n",
            "77/77 [==============================] - 1s 11ms/step - loss: 0.6671 - accuracy: 0.7704\n",
            "Epoch 299/300\n",
            "77/77 [==============================] - 1s 11ms/step - loss: 0.6443 - accuracy: 0.7587\n",
            "Epoch 300/300\n",
            "77/77 [==============================] - 1s 12ms/step - loss: 0.6782 - accuracy: 0.7634\n"
          ],
          "name": "stdout"
        }
      ]
    },
    {
      "cell_type": "code",
      "metadata": {
        "id": "Lij_WD8UiI9Z"
      },
      "source": [
        "# Total of 300 epochs had achieved maximum accuracy around 75%"
      ],
      "execution_count": null,
      "outputs": []
    },
    {
      "cell_type": "code",
      "metadata": {
        "colab": {
          "base_uri": "https://localhost:8080/",
          "height": 350
        },
        "id": "ZHnNRgYaSIxm",
        "outputId": "3aacd6f6-89f9-4dec-cf77-1799d38b393c"
      },
      "source": [
        "fig, axs = plt.subplots(nrows=1, ncols=2, figsize=(15,5))\n",
        "axs[0].plot(m.history['accuracy'])\n",
        "axs[0].set_title('Model accuracy')\n",
        "axs[0].legend(['Train'], loc='upper left')\n",
        "\n",
        "axs[1].plot(m.history['loss'])\n",
        "axs[1].set_title('Model loss')\n",
        "axs[1].legend(['Train'], loc='upper left')\n",
        "\n",
        "for ax in axs.flat:\n",
        "    ax.set(xlabel='Epoch')"
      ],
      "execution_count": null,
      "outputs": [
        {
          "output_type": "display_data",
          "data": {
            "image/png": "[encoded data removed]",
            "text/plain": [
              "<Figure size 1080x360 with 2 Axes>"
            ]
          },
          "metadata": {
            "tags": [],
            "needs_background": "light"
          }
        }
      ]
    },
    {
      "cell_type": "markdown",
      "metadata": {
        "id": "ZTM3JQeTUFEL"
      },
      "source": [
        "We get to observe that the model performs well and gives accuracy of more than 75% during training"
      ]
    },
    {
      "cell_type": "code",
      "metadata": {
        "id": "F6LrsQDuW0h-"
      },
      "source": [
        "model.save_weights('/content/gdrive/MyDrive/Task1Pk/')\n"
      ],
      "execution_count": null,
      "outputs": []
    },
    {
      "cell_type": "code",
      "metadata": {
        "colab": {
          "base_uri": "https://localhost:8080/"
        },
        "id": "N6QpeOYRUGrE",
        "outputId": "bc7f1d3a-d744-47db-c361-0221adae2cd3"
      },
      "source": [
        "model_1 = create_model()\n",
        "# Restore the weights\n",
        "model_1.load_weights('/content/gdrive/MyDrive/Task1Pk/')"
      ],
      "execution_count": null,
      "outputs": [
        {
          "output_type": "stream",
          "text": [
            "Model: \"sequential_4\"\n",
            "_________________________________________________________________\n",
            "Layer (type)                 Output Shape              Param #   \n",
            "=================================================================\n",
            "conv2d_16 (Conv2D)           (None, 28, 18, 32)        320       \n",
            "_________________________________________________________________\n",
            "max_pooling2d_12 (MaxPooling (None, 14, 9, 32)         0         \n",
            "_________________________________________________________________\n",
            "conv2d_17 (Conv2D)           (None, 14, 9, 64)         18496     \n",
            "_________________________________________________________________\n",
            "max_pooling2d_13 (MaxPooling (None, 7, 4, 64)          0         \n",
            "_________________________________________________________________\n",
            "conv2d_18 (Conv2D)           (None, 7, 4, 128)         73856     \n",
            "_________________________________________________________________\n",
            "max_pooling2d_14 (MaxPooling (None, 3, 2, 128)         0         \n",
            "_________________________________________________________________\n",
            "conv2d_19 (Conv2D)           (None, 3, 2, 128)         147584    \n",
            "_________________________________________________________________\n",
            "average_pooling2d_4 (Average (None, 1, 1, 128)         0         \n",
            "_________________________________________________________________\n",
            "flatten_4 (Flatten)          (None, 128)               0         \n",
            "_________________________________________________________________\n",
            "dropout_4 (Dropout)          (None, 128)               0         \n",
            "_________________________________________________________________\n",
            "dense_8 (Dense)              (None, 1024)              132096    \n",
            "_________________________________________________________________\n",
            "dense_9 (Dense)              (None, 63)                64575     \n",
            "=================================================================\n",
            "Total params: 436,927\n",
            "Trainable params: 436,927\n",
            "Non-trainable params: 0\n",
            "_________________________________________________________________\n"
          ],
          "name": "stdout"
        },
        {
          "output_type": "execute_result",
          "data": {
            "text/plain": [
              "<tensorflow.python.training.tracking.util.CheckpointLoadStatus at 0x7f6fdc620290>"
            ]
          },
          "metadata": {
            "tags": []
          },
          "execution_count": 51
        }
      ]
    },
    {
      "cell_type": "code",
      "metadata": {
        "id": "yZhZVJB-iBZ6"
      },
      "source": [
        "# Fetch required files\n",
        "from keras.datasets import mnist\n",
        "from keras.layers import Convolution2D\n",
        "from keras.layers import Flatten\n",
        "from keras.utils import np_utils"
      ],
      "execution_count": null,
      "outputs": []
    },
    {
      "cell_type": "code",
      "metadata": {
        "id": "HxhM7VTEi7EX"
      },
      "source": [
        "(X_train, Y_train), (X_test, Y_test) = mnist.load_data()\n",
        "X_train = X_train.reshape(60000, 28, 28, 1)\n",
        "X_test = X_test.reshape(10000, 28, 28, 1)\n",
        "#Y_train = np_utils.to_categorical(Y_train, 10)\n",
        "#Y_test = np_utils.to_categorical(Y_test, 10)\n"
      ],
      "execution_count": null,
      "outputs": []
    },
    {
      "cell_type": "code",
      "metadata": {
        "colab": {
          "base_uri": "https://localhost:8080/"
        },
        "id": "TlHKljq3jHy0",
        "outputId": "0910dc3b-48e6-4cd8-9a97-e293d14cedfc"
      },
      "source": [
        "Y_train.shape"
      ],
      "execution_count": null,
      "outputs": [
        {
          "output_type": "execute_result",
          "data": {
            "text/plain": [
              "(60000,)"
            ]
          },
          "metadata": {
            "tags": []
          },
          "execution_count": 54
        }
      ]
    },
    {
      "cell_type": "code",
      "metadata": {
        "colab": {
          "base_uri": "https://localhost:8080/"
        },
        "id": "dvFb6V7wjR6L",
        "outputId": "a5f50647-9c7c-4318-d941-30b19321c99c"
      },
      "source": [
        "#model.fit(X_train, Y_train, batch_size=100, epochs=5,\n",
        "#validation_split=0.1, verbose=1)\n",
        "m = model_1.fit(\n",
        "       X_train,\n",
        "       Y_train,\n",
        "       validation_data=(X_test, Y_test),\n",
        "       batch_size = 77,\n",
        "       epochs=20, \n",
        "       verbose = 1 ,# Verbosity mode. 0 = silent, 1 = progress bar, 2 = one line per epoch.\n",
        "       shuffle = True\n",
        "       )"
      ],
      "execution_count": null,
      "outputs": [
        {
          "output_type": "stream",
          "text": [
            "Epoch 1/20\n",
            "WARNING:tensorflow:Model was constructed with shape (None, 28, 18, 1) for input KerasTensor(type_spec=TensorSpec(shape=(None, 28, 18, 1), dtype=tf.float32, name='conv2d_16_input'), name='conv2d_16_input', description=\"created by layer 'conv2d_16_input'\"), but it was called on an input with incompatible shape (None, 28, 28, 1).\n",
            "WARNING:tensorflow:Model was constructed with shape (None, 28, 18, 1) for input KerasTensor(type_spec=TensorSpec(shape=(None, 28, 18, 1), dtype=tf.float32, name='conv2d_16_input'), name='conv2d_16_input', description=\"created by layer 'conv2d_16_input'\"), but it was called on an input with incompatible shape (None, 28, 28, 1).\n",
            "772/780 [============================>.] - ETA: 0s - loss: 57.7932 - accuracy: 0.5714WARNING:tensorflow:Model was constructed with shape (None, 28, 18, 1) for input KerasTensor(type_spec=TensorSpec(shape=(None, 28, 18, 1), dtype=tf.float32, name='conv2d_16_input'), name='conv2d_16_input', description=\"created by layer 'conv2d_16_input'\"), but it was called on an input with incompatible shape (None, 28, 28, 1).\n",
            "780/780 [==============================] - 5s 5ms/step - loss: 57.2510 - accuracy: 0.5726 - val_loss: 0.4136 - val_accuracy: 0.8860\n",
            "Epoch 2/20\n",
            "780/780 [==============================] - 4s 5ms/step - loss: 0.5920 - accuracy: 0.8373 - val_loss: 0.2125 - val_accuracy: 0.9384\n",
            "Epoch 3/20\n",
            "780/780 [==============================] - 4s 5ms/step - loss: 0.3491 - accuracy: 0.9011 - val_loss: 0.1556 - val_accuracy: 0.9543\n",
            "Epoch 4/20\n",
            "780/780 [==============================] - 4s 5ms/step - loss: 0.2532 - accuracy: 0.9276 - val_loss: 0.1265 - val_accuracy: 0.9636\n",
            "Epoch 5/20\n",
            "780/780 [==============================] - 4s 5ms/step - loss: 0.1995 - accuracy: 0.9447 - val_loss: 0.1150 - val_accuracy: 0.9658\n",
            "Epoch 6/20\n",
            "780/780 [==============================] - 4s 5ms/step - loss: 0.1644 - accuracy: 0.9535 - val_loss: 0.0888 - val_accuracy: 0.9756\n",
            "Epoch 7/20\n",
            "780/780 [==============================] - 4s 5ms/step - loss: 0.1356 - accuracy: 0.9618 - val_loss: 0.0833 - val_accuracy: 0.9747\n",
            "Epoch 8/20\n",
            "780/780 [==============================] - 4s 5ms/step - loss: 0.1182 - accuracy: 0.9662 - val_loss: 0.0732 - val_accuracy: 0.9792\n",
            "Epoch 9/20\n",
            "780/780 [==============================] - 4s 5ms/step - loss: 0.1020 - accuracy: 0.9715 - val_loss: 0.0709 - val_accuracy: 0.9801\n",
            "Epoch 10/20\n",
            "780/780 [==============================] - 4s 5ms/step - loss: 0.0912 - accuracy: 0.9733 - val_loss: 0.0628 - val_accuracy: 0.9819\n",
            "Epoch 11/20\n",
            "780/780 [==============================] - 4s 5ms/step - loss: 0.0931 - accuracy: 0.9730 - val_loss: 0.0604 - val_accuracy: 0.9816\n",
            "Epoch 12/20\n",
            "780/780 [==============================] - 4s 5ms/step - loss: 0.0787 - accuracy: 0.9769 - val_loss: 0.0614 - val_accuracy: 0.9821\n",
            "Epoch 13/20\n",
            "780/780 [==============================] - 4s 5ms/step - loss: 0.0705 - accuracy: 0.9801 - val_loss: 0.0533 - val_accuracy: 0.9849\n",
            "Epoch 14/20\n",
            "780/780 [==============================] - 4s 5ms/step - loss: 0.0666 - accuracy: 0.9808 - val_loss: 0.0593 - val_accuracy: 0.9839\n",
            "Epoch 15/20\n",
            "780/780 [==============================] - 4s 5ms/step - loss: 0.0617 - accuracy: 0.9820 - val_loss: 0.0506 - val_accuracy: 0.9841\n",
            "Epoch 16/20\n",
            "780/780 [==============================] - 4s 5ms/step - loss: 0.0603 - accuracy: 0.9829 - val_loss: 0.0493 - val_accuracy: 0.9863\n",
            "Epoch 17/20\n",
            "780/780 [==============================] - 4s 5ms/step - loss: 0.0531 - accuracy: 0.9848 - val_loss: 0.0465 - val_accuracy: 0.9866\n",
            "Epoch 18/20\n",
            "780/780 [==============================] - 4s 5ms/step - loss: 0.0515 - accuracy: 0.9847 - val_loss: 0.0397 - val_accuracy: 0.9877\n",
            "Epoch 19/20\n",
            "780/780 [==============================] - 4s 5ms/step - loss: 0.0484 - accuracy: 0.9854 - val_loss: 0.0487 - val_accuracy: 0.9857\n",
            "Epoch 20/20\n",
            "780/780 [==============================] - 4s 5ms/step - loss: 0.0473 - accuracy: 0.9869 - val_loss: 0.0400 - val_accuracy: 0.9883\n"
          ],
          "name": "stdout"
        }
      ]
    },
    {
      "cell_type": "code",
      "metadata": {
        "id": "mhp-t5MIjVbj"
      },
      "source": [
        "#Lets evaluate the model with the test dataset"
      ],
      "execution_count": null,
      "outputs": []
    },
    {
      "cell_type": "code",
      "metadata": {
        "colab": {
          "base_uri": "https://localhost:8080/"
        },
        "id": "rTN4zDs8liKG",
        "outputId": "b68d618e-aeff-41eb-8021-9ec7b68c7165"
      },
      "source": [
        "loss, acc = model_1.evaluate(X_test, Y_test, verbose=2)\n",
        "print(\"Test accuracy is: {:5.2f}%\".format(100 * acc))"
      ],
      "execution_count": null,
      "outputs": [
        {
          "output_type": "stream",
          "text": [
            "313/313 - 1s - loss: 0.0400 - accuracy: 0.9883\n",
            "Test accuracy is: 98.83%\n"
          ],
          "name": "stdout"
        }
      ]
    },
    {
      "cell_type": "code",
      "metadata": {
        "colab": {
          "base_uri": "https://localhost:8080/",
          "height": 350
        },
        "id": "RNWI_T5TUyUE",
        "outputId": "8690a9d8-070c-43ba-d0bf-321afc64f3cb"
      },
      "source": [
        "fig, axs = plt.subplots(nrows=1, ncols=2, figsize=(15,5))\n",
        "axs[0].plot(m.history['accuracy'])\n",
        "axs[0].plot(m.history['val_accuracy'])\n",
        "axs[0].set_title('Model accuracy')\n",
        "axs[0].legend(['Train', 'Val'], loc='upper left')\n",
        "\n",
        "axs[1].plot(m.history['loss'])\n",
        "axs[1].plot(m.history['val_loss'])\n",
        "axs[1].set_title('Model loss')\n",
        "axs[1].legend(['Train', 'Val'], loc='upper left')\n",
        "\n",
        "for ax in axs.flat:\n",
        "    ax.set(xlabel='Epoch')"
      ],
      "execution_count": null,
      "outputs": [
        {
          "output_type": "display_data",
          "data": {
            "image/png": "[encoded data removed]",
            "text/plain": [
              "<Figure size 1080x360 with 2 Axes>"
            ]
          },
          "metadata": {
            "tags": [],
            "needs_background": "light"
          }
        }
      ]
    },
    {
      "cell_type": "code",
      "metadata": {
        "id": "CGzYtiR_DSu1"
      },
      "source": [
        "model.save_weights('/content/gdrive/MyDrive/Task1Pk/Checkpoint2/')\n"
      ],
      "execution_count": null,
      "outputs": []
    },
    {
      "cell_type": "code",
      "metadata": {
        "id": "QV7hjM4dltYC"
      },
      "source": [
        "#Thus we have achieved a test accuracy of 98.96% with training the model with MNIST Dataset\n"
      ],
      "execution_count": null,
      "outputs": []
    },
    {
      "cell_type": "markdown",
      "metadata": {
        "id": "GDfBC2UHXNsJ"
      },
      "source": [
        "How does this pretrained network perform in comparison to a randomly initialized network in terms of convergence time, final accuracy and other possible training quality metrics?"
      ]
    },
    {
      "cell_type": "markdown",
      "metadata": {
        "id": "3w1VrlJ1XSPi"
      },
      "source": [
        "**Answer**\n",
        "The model converges to an accuracy of 98.6%\n",
        "- The model converges to 98.6% in just twenty Epochs\n",
        "- The model is trained much faster than randomly initialized network\n"
      ]
    },
    {
      "cell_type": "code",
      "metadata": {
        "id": "q222wUgUl4Eu"
      },
      "source": [
        "#Saving Model Checkpoints"
      ],
      "execution_count": null,
      "outputs": []
    },
    {
      "cell_type": "code",
      "metadata": {
        "id": "Eu87MUaanOS7"
      },
      "source": [
        "def create_model():\n",
        "  filters = 32 \n",
        "  kernel_size = 3  \n",
        "  max_pool = 2      \n",
        "  EPOCHS = 70                                \n",
        "  batch_size = 32                             \n",
        "  iteration_per_epoc = 2480 // batch_size  \n",
        "  validations_per_epoc = 2480 // batch_size     \n",
        "  model2 = Sequential()\n",
        "\n",
        "  # first layer\n",
        "  model2.add(Conv2D(batch_size, (kernel_size, kernel_size), activation='relu', padding='same', input_shape=(28, 18, 1))) # 32\n",
        "  model2.add(MaxPooling2D((max_pool, max_pool))) #reduce the spatial size of incoming features\n",
        "\n",
        "  # second layer\n",
        "  model2.add(Conv2D(2*batch_size, (kernel_size, kernel_size), activation='relu', padding='same')) # 64\n",
        "  model2.add(MaxPooling2D((max_pool, max_pool))) \n",
        "\n",
        "  # third layer\n",
        "  model2.add(Conv2D(4*batch_size, (kernel_size, kernel_size), activation='relu', padding='same')) # 128\n",
        "  model2.add(MaxPooling2D((max_pool, max_pool))) \n",
        "\n",
        "  # fourth layer\n",
        "  model2.add(Conv2D(4*batch_size, (kernel_size, kernel_size), activation='relu', padding='same')) # 128\n",
        "  model2.add(AveragePooling2D(pool_size= (2, 2), strides= (2, 2))) \n",
        "\n",
        "  model2.add(Flatten())\n",
        "  model2.add(Dropout(0.5))\n",
        "  model2.add(Dense(32*batch_size, activation='relu'))                                             # 512\n",
        "  model2.add(Dense(63, activation='softmax'))\n",
        "  model2.summary()\n",
        "  model2.compile(optimizer='adam',loss='sparse_categorical_crossentropy',metrics=['accuracy'])\n",
        "  return model2\n"
      ],
      "execution_count": null,
      "outputs": []
    },
    {
      "cell_type": "code",
      "metadata": {
        "colab": {
          "base_uri": "https://localhost:8080/"
        },
        "id": "R7W5plyZ-u9X",
        "outputId": "80297c6e-2fa9-4514-ba59-ba4332c4ae9f"
      },
      "source": [
        "# Create a new model instance\n",
        "model2 = create_model()\n",
        "# Restore the weights\n",
        "model2.load_weights('/content/gdrive/MyDrive/Task1Pk/')"
      ],
      "execution_count": null,
      "outputs": [
        {
          "output_type": "stream",
          "text": [
            "Model: \"sequential_9\"\n",
            "_________________________________________________________________\n",
            "Layer (type)                 Output Shape              Param #   \n",
            "=================================================================\n",
            "conv2d_36 (Conv2D)           (None, 28, 18, 32)        320       \n",
            "_________________________________________________________________\n",
            "max_pooling2d_27 (MaxPooling (None, 14, 9, 32)         0         \n",
            "_________________________________________________________________\n",
            "conv2d_37 (Conv2D)           (None, 14, 9, 64)         18496     \n",
            "_________________________________________________________________\n",
            "max_pooling2d_28 (MaxPooling (None, 7, 4, 64)          0         \n",
            "_________________________________________________________________\n",
            "conv2d_38 (Conv2D)           (None, 7, 4, 128)         73856     \n",
            "_________________________________________________________________\n",
            "max_pooling2d_29 (MaxPooling (None, 3, 2, 128)         0         \n",
            "_________________________________________________________________\n",
            "conv2d_39 (Conv2D)           (None, 3, 2, 128)         147584    \n",
            "_________________________________________________________________\n",
            "average_pooling2d_9 (Average (None, 1, 1, 128)         0         \n",
            "_________________________________________________________________\n",
            "flatten_9 (Flatten)          (None, 128)               0         \n",
            "_________________________________________________________________\n",
            "dropout_9 (Dropout)          (None, 128)               0         \n",
            "_________________________________________________________________\n",
            "dense_18 (Dense)             (None, 1024)              132096    \n",
            "_________________________________________________________________\n",
            "dense_19 (Dense)             (None, 63)                64575     \n",
            "=================================================================\n",
            "Total params: 436,927\n",
            "Trainable params: 436,927\n",
            "Non-trainable params: 0\n",
            "_________________________________________________________________\n"
          ],
          "name": "stdout"
        },
        {
          "output_type": "execute_result",
          "data": {
            "text/plain": [
              "<tensorflow.python.training.tracking.util.CheckpointLoadStatus at 0x7f6e30f16f90>"
            ]
          },
          "metadata": {
            "tags": []
          },
          "execution_count": 18
        }
      ]
    },
    {
      "cell_type": "code",
      "metadata": {
        "id": "_psdIxJIum6l"
      },
      "source": [
        "#Second mnist dataset function for data processing\n",
        "'''\n",
        "Function name : loadImgMnist3\n",
        "loads all the images of given parent directory containing images of a paticular class name\n",
        "converts images to greyscale and then shrinks the image by applying intercubic interpolation\n",
        "Shrinks the image to 28 by 28 numpy array and normalize the array elements in range of [0,1] \n",
        "\n",
        "Params : \n",
        "  parent - parent dir\n",
        "  img_data - list of images (data)\n",
        "  class_name - list of class corresponding to images in img_data (list of label)\n",
        "  className - class name to be appended in class_name list\n",
        "returns\n",
        "  - None\n",
        "  - Returns elements via pass by reference back to the calling method/namespace\n",
        "'''\n",
        "def loadImgMnist3(parent,img_data,class_name,className):\n",
        "  print(parent)\n",
        "  images_list = []\n",
        "  test_folder=r'/content/gdrive/MyDrive/mnistTask/'+parent\n",
        "  print(test_folder)\n",
        "  val = os.listdir(test_folder)\n",
        "  print(val)\n",
        "  c = 0\n",
        "  for img in val:\n",
        "      image_path = os.path.join(test_folder,img)\n",
        "      imcv = cv2.imread(image_path)\n",
        "      gray = cv2.cvtColor(imcv, cv2.COLOR_BGR2GRAY)\n",
        "      stretch_near = cv2.resize(gray, (28, 28),interpolation = cv2.INTER_CUBIC) #Intercubic Interpolation preserves greater details\n",
        "      if c==0:\n",
        "        print(className)\n",
        "        plt.imshow(stretch_near)\n",
        "      c=c+1\n",
        "      img_data.append(np.array(stretch_near)/255)\n",
        "      class_name.append(className)\n"
      ],
      "execution_count": null,
      "outputs": []
    },
    {
      "cell_type": "code",
      "metadata": {
        "id": "OhmwCw1BtlNs"
      },
      "source": [
        "#creaing the dataset for the third dataset\n",
        "'''\n",
        "Function name : create_dataset\n",
        "  Traverses through the dataset directory and as per the serial number number of directory assigns \n",
        "  class name and label to corresponding image in a dataset\n",
        "Params : \n",
        "  No params\n",
        "returns\n",
        "  - Returns the list containing all the images and their corresponding class label\n",
        "'''\n",
        "\n",
        "\n",
        "def create_dataset():\n",
        "    img_data_array=[]\n",
        "    class_name=[]\n",
        "    for i in range(1,11):\n",
        "      pre = \"\"\n",
        "      if(len(str(i))>1):\n",
        "        pre = \"0\"+str(i)\n",
        "      else:\n",
        "        pre = \"00\"+str(i)\n",
        "\n",
        "      parent = \"Sample\"+pre        \n",
        "      loadImg(parent,img_data_array,class_name,str(i-1))\n",
        "    return img_data_array, class_name\n"
      ],
      "execution_count": null,
      "outputs": []
    },
    {
      "cell_type": "code",
      "metadata": {
        "colab": {
          "base_uri": "https://localhost:8080/"
        },
        "id": "omsuha8Nw8Q4",
        "outputId": "a27146b0-b7df-4912-81ad-bfab7cd5f94f"
      },
      "source": [
        "img_mnist3, label_mnist3 = create_dataset()"
      ],
      "execution_count": null,
      "outputs": [
        {
          "output_type": "stream",
          "text": [
            "/content\n"
          ],
          "name": "stdout"
        }
      ]
    },
    {
      "cell_type": "code",
      "metadata": {
        "colab": {
          "base_uri": "https://localhost:8080/"
        },
        "id": "YNhdIiozw-U9",
        "outputId": "f98f0bed-cbe2-47aa-b9cf-10dbb03466e6"
      },
      "source": [
        "!ls"
      ],
      "execution_count": null,
      "outputs": [
        {
          "output_type": "stream",
          "text": [
            "gdrive\tsample_data\n"
          ],
          "name": "stdout"
        }
      ]
    },
    {
      "cell_type": "code",
      "metadata": {
        "colab": {
          "base_uri": "https://localhost:8080/"
        },
        "id": "Iqe8olzzRmaM",
        "outputId": "4dd17e03-18df-49bc-a866-717e68999421"
      },
      "source": [
        ""
      ],
      "execution_count": null,
      "outputs": [
        {
          "output_type": "stream",
          "text": [
            "Model: \"sequential_10\"\n",
            "_________________________________________________________________\n",
            "Layer (type)                 Output Shape              Param #   \n",
            "=================================================================\n",
            "conv2d_40 (Conv2D)           (None, 28, 18, 32)        320       \n",
            "_________________________________________________________________\n",
            "max_pooling2d_30 (MaxPooling (None, 14, 9, 32)         0         \n",
            "_________________________________________________________________\n",
            "conv2d_41 (Conv2D)           (None, 14, 9, 64)         18496     \n",
            "_________________________________________________________________\n",
            "max_pooling2d_31 (MaxPooling (None, 7, 4, 64)          0         \n",
            "_________________________________________________________________\n",
            "conv2d_42 (Conv2D)           (None, 7, 4, 128)         73856     \n",
            "_________________________________________________________________\n",
            "max_pooling2d_32 (MaxPooling (None, 3, 2, 128)         0         \n",
            "_________________________________________________________________\n",
            "conv2d_43 (Conv2D)           (None, 3, 2, 128)         147584    \n",
            "_________________________________________________________________\n",
            "average_pooling2d_10 (Averag (None, 1, 1, 128)         0         \n",
            "_________________________________________________________________\n",
            "flatten_10 (Flatten)         (None, 128)               0         \n",
            "_________________________________________________________________\n",
            "dropout_10 (Dropout)         (None, 128)               0         \n",
            "_________________________________________________________________\n",
            "dense_20 (Dense)             (None, 1024)              132096    \n",
            "_________________________________________________________________\n",
            "dense_21 (Dense)             (None, 63)                64575     \n",
            "=================================================================\n",
            "Total params: 436,927\n",
            "Trainable params: 436,927\n",
            "Non-trainable params: 0\n",
            "_________________________________________________________________\n"
          ],
          "name": "stdout"
        },
        {
          "output_type": "execute_result",
          "data": {
            "text/plain": [
              "<tensorflow.python.training.tracking.util.CheckpointLoadStatus at 0x7f6e30e7a290>"
            ]
          },
          "metadata": {
            "tags": []
          },
          "execution_count": 19
        }
      ]
    },
    {
      "cell_type": "code",
      "metadata": {
        "id": "chr50o2Lt_U2"
      },
      "source": [
        "import pickle\n"
      ],
      "execution_count": null,
      "outputs": []
    },
    {
      "cell_type": "code",
      "metadata": {
        "id": "5idlyPE0vJfJ"
      },
      "source": [
        "mnist_file_stream = open('/content/gdrive/MyDrive/examplePickle','rb')"
      ],
      "execution_count": null,
      "outputs": []
    },
    {
      "cell_type": "code",
      "metadata": {
        "id": "1JTIyarRvYRB"
      },
      "source": [
        "loaded_dict = pickle.load(mnist_file_stream)\n"
      ],
      "execution_count": null,
      "outputs": []
    },
    {
      "cell_type": "code",
      "metadata": {
        "id": "QBIZSlzBv3O5"
      },
      "source": [
        "img2 = loaded_dict['img']\n",
        "label = loaded_dict['label']"
      ],
      "execution_count": null,
      "outputs": []
    },
    {
      "cell_type": "code",
      "metadata": {
        "id": "nrT_N27oyxLI"
      },
      "source": [
        "img2 = np.array(img2)"
      ],
      "execution_count": null,
      "outputs": []
    },
    {
      "cell_type": "code",
      "metadata": {
        "id": "ZmYR4nIQy18S"
      },
      "source": [
        "label = np.array(list(map(int,label)))"
      ],
      "execution_count": null,
      "outputs": []
    },
    {
      "cell_type": "code",
      "metadata": {
        "colab": {
          "base_uri": "https://localhost:8080/"
        },
        "id": "WsngpmDYy46x",
        "outputId": "8dafe253-755d-4286-df04-a2a8a598a5d9"
      },
      "source": [
        "label.shape"
      ],
      "execution_count": null,
      "outputs": [
        {
          "output_type": "execute_result",
          "data": {
            "text/plain": [
              "(60000,)"
            ]
          },
          "metadata": {
            "tags": []
          },
          "execution_count": 39
        }
      ]
    },
    {
      "cell_type": "code",
      "metadata": {
        "id": "MeBR-FmJzj2X"
      },
      "source": [
        "X_train = img2.reshape(60000, 28, 28, 1)\n",
        "Y_train = label"
      ],
      "execution_count": null,
      "outputs": []
    },
    {
      "cell_type": "code",
      "metadata": {
        "colab": {
          "base_uri": "https://localhost:8080/"
        },
        "id": "Xj4OK5FB0Bke",
        "outputId": "01c0cf39-e984-47c5-b17e-31a862a5553c"
      },
      "source": [
        "m = model3.fit(\n",
        "       X_train,\n",
        "       Y_train,\n",
        "       batch_size = 77,\n",
        "       epochs=200, \n",
        "       verbose = 1 ,# Verbosity mode. 0 = silent, 1 = progress bar, 2 = one line per epoch.\n",
        "       shuffle = True\n",
        "       )"
      ],
      "execution_count": null,
      "outputs": [
        {
          "output_type": "stream",
          "text": [
            "Epoch 1/200\n",
            "WARNING:tensorflow:Model was constructed with shape (None, 28, 18, 1) for input KerasTensor(type_spec=TensorSpec(shape=(None, 28, 18, 1), dtype=tf.float32, name='conv2d_40_input'), name='conv2d_40_input', description=\"created by layer 'conv2d_40_input'\"), but it was called on an input with incompatible shape (None, 28, 28, 1).\n",
            "WARNING:tensorflow:Model was constructed with shape (None, 28, 18, 1) for input KerasTensor(type_spec=TensorSpec(shape=(None, 28, 18, 1), dtype=tf.float32, name='conv2d_40_input'), name='conv2d_40_input', description=\"created by layer 'conv2d_40_input'\"), but it was called on an input with incompatible shape (None, 28, 28, 1).\n",
            "780/780 [==============================] - 38s 11ms/step - loss: 3.5891 - accuracy: 0.0966\n",
            "Epoch 2/200\n",
            "780/780 [==============================] - 8s 11ms/step - loss: 2.3105 - accuracy: 0.1062\n",
            "Epoch 3/200\n",
            "780/780 [==============================] - 8s 11ms/step - loss: 2.3017 - accuracy: 0.1074\n",
            "Epoch 4/200\n",
            "780/780 [==============================] - 8s 11ms/step - loss: 2.2931 - accuracy: 0.1107\n",
            "Epoch 5/200\n",
            "780/780 [==============================] - 8s 11ms/step - loss: 2.2868 - accuracy: 0.1114\n",
            "Epoch 6/200\n",
            "780/780 [==============================] - 8s 11ms/step - loss: 2.2748 - accuracy: 0.1120\n",
            "Epoch 7/200\n",
            "780/780 [==============================] - 8s 11ms/step - loss: 2.2660 - accuracy: 0.1141\n",
            "Epoch 8/200\n",
            "780/780 [==============================] - 8s 11ms/step - loss: 2.2562 - accuracy: 0.1163\n",
            "Epoch 9/200\n",
            "780/780 [==============================] - 8s 11ms/step - loss: 2.2463 - accuracy: 0.1144\n",
            "Epoch 10/200\n",
            "780/780 [==============================] - 8s 11ms/step - loss: 2.2391 - accuracy: 0.1173\n",
            "Epoch 11/200\n",
            "780/780 [==============================] - 8s 11ms/step - loss: 2.2334 - accuracy: 0.1160\n",
            "Epoch 12/200\n",
            "780/780 [==============================] - 8s 11ms/step - loss: 2.2298 - accuracy: 0.1186\n",
            "Epoch 13/200\n",
            "780/780 [==============================] - 8s 10ms/step - loss: 2.2270 - accuracy: 0.1181\n",
            "Epoch 14/200\n",
            "780/780 [==============================] - 8s 11ms/step - loss: 2.2240 - accuracy: 0.1192\n",
            "Epoch 15/200\n",
            "780/780 [==============================] - 8s 11ms/step - loss: 2.2214 - accuracy: 0.1192\n",
            "Epoch 16/200\n",
            "780/780 [==============================] - 8s 11ms/step - loss: 2.2194 - accuracy: 0.1213\n",
            "Epoch 17/200\n",
            "780/780 [==============================] - 8s 11ms/step - loss: 2.2190 - accuracy: 0.1197\n",
            "Epoch 18/200\n",
            "780/780 [==============================] - 8s 11ms/step - loss: 2.2146 - accuracy: 0.1237\n",
            "Epoch 19/200\n",
            "780/780 [==============================] - 8s 11ms/step - loss: 2.2141 - accuracy: 0.1200\n",
            "Epoch 20/200\n",
            "780/780 [==============================] - 8s 11ms/step - loss: 2.2125 - accuracy: 0.1216\n",
            "Epoch 21/200\n",
            "780/780 [==============================] - 8s 11ms/step - loss: 2.2100 - accuracy: 0.1239\n",
            "Epoch 22/200\n",
            "780/780 [==============================] - 8s 11ms/step - loss: 2.2105 - accuracy: 0.1224\n",
            "Epoch 23/200\n",
            "780/780 [==============================] - 8s 11ms/step - loss: 2.2090 - accuracy: 0.1217\n",
            "Epoch 24/200\n",
            "780/780 [==============================] - 8s 11ms/step - loss: 2.2060 - accuracy: 0.1281\n",
            "Epoch 25/200\n",
            "780/780 [==============================] - 8s 11ms/step - loss: 2.2047 - accuracy: 0.1287\n",
            "Epoch 26/200\n",
            "780/780 [==============================] - 8s 11ms/step - loss: 2.2045 - accuracy: 0.1290\n",
            "Epoch 27/200\n",
            "780/780 [==============================] - 8s 11ms/step - loss: 2.2022 - accuracy: 0.1296\n",
            "Epoch 28/200\n",
            "780/780 [==============================] - 8s 11ms/step - loss: 2.1989 - accuracy: 0.1324\n",
            "Epoch 29/200\n",
            "780/780 [==============================] - 8s 11ms/step - loss: 2.1951 - accuracy: 0.1331\n",
            "Epoch 30/200\n",
            "780/780 [==============================] - 8s 11ms/step - loss: 2.1964 - accuracy: 0.1340\n",
            "Epoch 31/200\n",
            "780/780 [==============================] - 8s 11ms/step - loss: 2.1954 - accuracy: 0.1361\n",
            "Epoch 32/200\n",
            "780/780 [==============================] - 8s 11ms/step - loss: 2.1919 - accuracy: 0.1341\n",
            "Epoch 33/200\n",
            "780/780 [==============================] - 8s 11ms/step - loss: 2.1905 - accuracy: 0.1391\n",
            "Epoch 34/200\n",
            "780/780 [==============================] - 8s 11ms/step - loss: 2.1864 - accuracy: 0.1384\n",
            "Epoch 35/200\n",
            "780/780 [==============================] - 8s 11ms/step - loss: 2.1835 - accuracy: 0.1444\n",
            "Epoch 36/200\n",
            "780/780 [==============================] - 8s 11ms/step - loss: 2.1820 - accuracy: 0.1436\n",
            "Epoch 37/200\n",
            "780/780 [==============================] - 8s 11ms/step - loss: 2.1797 - accuracy: 0.1465\n",
            "Epoch 38/200\n",
            "780/780 [==============================] - 8s 11ms/step - loss: 2.1764 - accuracy: 0.1492\n",
            "Epoch 39/200\n",
            "780/780 [==============================] - 8s 11ms/step - loss: 2.1731 - accuracy: 0.1510\n",
            "Epoch 40/200\n",
            "780/780 [==============================] - 8s 11ms/step - loss: 2.1713 - accuracy: 0.1534\n",
            "Epoch 41/200\n",
            "780/780 [==============================] - 8s 11ms/step - loss: 2.1675 - accuracy: 0.1517\n",
            "Epoch 42/200\n",
            "780/780 [==============================] - 8s 11ms/step - loss: 2.1619 - accuracy: 0.1546\n",
            "Epoch 43/200\n",
            "780/780 [==============================] - 8s 11ms/step - loss: 2.1599 - accuracy: 0.1611\n",
            "Epoch 44/200\n",
            "780/780 [==============================] - 8s 11ms/step - loss: 2.1541 - accuracy: 0.1636\n",
            "Epoch 45/200\n",
            "780/780 [==============================] - 8s 11ms/step - loss: 2.1519 - accuracy: 0.1651\n",
            "Epoch 46/200\n",
            "780/780 [==============================] - 8s 11ms/step - loss: 2.1463 - accuracy: 0.1678\n",
            "Epoch 47/200\n",
            "780/780 [==============================] - 8s 11ms/step - loss: 2.1454 - accuracy: 0.1656\n",
            "Epoch 48/200\n",
            "780/780 [==============================] - 8s 11ms/step - loss: 2.1417 - accuracy: 0.1694\n",
            "Epoch 49/200\n",
            "780/780 [==============================] - 8s 11ms/step - loss: 2.1354 - accuracy: 0.1722\n",
            "Epoch 50/200\n",
            "780/780 [==============================] - 8s 11ms/step - loss: 2.1330 - accuracy: 0.1731\n",
            "Epoch 51/200\n",
            "780/780 [==============================] - 8s 11ms/step - loss: 2.1293 - accuracy: 0.1777\n",
            "Epoch 52/200\n",
            "780/780 [==============================] - 8s 11ms/step - loss: 2.1222 - accuracy: 0.1806\n",
            "Epoch 53/200\n",
            "780/780 [==============================] - 8s 11ms/step - loss: 2.1195 - accuracy: 0.1821\n",
            "Epoch 54/200\n",
            "780/780 [==============================] - 8s 11ms/step - loss: 2.1178 - accuracy: 0.1822\n",
            "Epoch 55/200\n",
            "780/780 [==============================] - 8s 11ms/step - loss: 2.1097 - accuracy: 0.1889\n",
            "Epoch 56/200\n",
            "780/780 [==============================] - 8s 11ms/step - loss: 2.1058 - accuracy: 0.1870\n",
            "Epoch 57/200\n",
            "780/780 [==============================] - 8s 11ms/step - loss: 2.1002 - accuracy: 0.1930\n",
            "Epoch 58/200\n",
            "780/780 [==============================] - 8s 11ms/step - loss: 2.0951 - accuracy: 0.1923\n",
            "Epoch 59/200\n",
            "780/780 [==============================] - 8s 11ms/step - loss: 2.0942 - accuracy: 0.1953\n",
            "Epoch 60/200\n",
            "780/780 [==============================] - 8s 11ms/step - loss: 2.0856 - accuracy: 0.1986\n",
            "Epoch 61/200\n",
            "780/780 [==============================] - 8s 11ms/step - loss: 2.0836 - accuracy: 0.2016\n",
            "Epoch 62/200\n",
            "780/780 [==============================] - 8s 11ms/step - loss: 2.0799 - accuracy: 0.2026\n",
            "Epoch 63/200\n",
            "780/780 [==============================] - 8s 11ms/step - loss: 2.0776 - accuracy: 0.2032\n",
            "Epoch 64/200\n",
            "780/780 [==============================] - 8s 11ms/step - loss: 2.0689 - accuracy: 0.2085\n",
            "Epoch 65/200\n",
            "780/780 [==============================] - 8s 11ms/step - loss: 2.0600 - accuracy: 0.2168\n",
            "Epoch 66/200\n",
            "780/780 [==============================] - 8s 11ms/step - loss: 2.0622 - accuracy: 0.2120\n",
            "Epoch 67/200\n",
            "780/780 [==============================] - 8s 11ms/step - loss: 2.0561 - accuracy: 0.2144\n",
            "Epoch 68/200\n",
            "780/780 [==============================] - 8s 11ms/step - loss: 2.0499 - accuracy: 0.2169\n",
            "Epoch 69/200\n",
            "780/780 [==============================] - 8s 11ms/step - loss: 2.0495 - accuracy: 0.2222\n",
            "Epoch 70/200\n",
            "780/780 [==============================] - 8s 11ms/step - loss: 2.0400 - accuracy: 0.2238\n",
            "Epoch 71/200\n",
            "780/780 [==============================] - 8s 11ms/step - loss: 2.0352 - accuracy: 0.2279\n",
            "Epoch 72/200\n",
            "780/780 [==============================] - 8s 11ms/step - loss: 2.0317 - accuracy: 0.2258\n",
            "Epoch 73/200\n",
            "780/780 [==============================] - 8s 11ms/step - loss: 2.0291 - accuracy: 0.2274\n",
            "Epoch 74/200\n",
            "780/780 [==============================] - 8s 11ms/step - loss: 2.0205 - accuracy: 0.2309\n",
            "Epoch 75/200\n",
            "780/780 [==============================] - 8s 11ms/step - loss: 2.0225 - accuracy: 0.2295\n",
            "Epoch 76/200\n",
            "780/780 [==============================] - 8s 11ms/step - loss: 2.0146 - accuracy: 0.2332\n",
            "Epoch 77/200\n",
            "780/780 [==============================] - 8s 11ms/step - loss: 2.0094 - accuracy: 0.2347\n",
            "Epoch 78/200\n",
            "780/780 [==============================] - 8s 11ms/step - loss: 2.0055 - accuracy: 0.2386\n",
            "Epoch 79/200\n",
            "780/780 [==============================] - 8s 11ms/step - loss: 2.0046 - accuracy: 0.2386\n",
            "Epoch 80/200\n",
            "780/780 [==============================] - 8s 11ms/step - loss: 1.9970 - accuracy: 0.2431\n",
            "Epoch 81/200\n",
            "780/780 [==============================] - 8s 11ms/step - loss: 1.9951 - accuracy: 0.2415\n",
            "Epoch 82/200\n",
            "780/780 [==============================] - 8s 11ms/step - loss: 1.9956 - accuracy: 0.2439\n",
            "Epoch 83/200\n",
            "780/780 [==============================] - 8s 11ms/step - loss: 1.9838 - accuracy: 0.2474\n",
            "Epoch 84/200\n",
            "780/780 [==============================] - 8s 11ms/step - loss: 1.9841 - accuracy: 0.2470\n",
            "Epoch 85/200\n",
            "780/780 [==============================] - 8s 11ms/step - loss: 1.9821 - accuracy: 0.2463\n",
            "Epoch 86/200\n",
            "780/780 [==============================] - 8s 11ms/step - loss: 1.9707 - accuracy: 0.2541\n",
            "Epoch 87/200\n",
            "780/780 [==============================] - 8s 11ms/step - loss: 1.9751 - accuracy: 0.2516\n",
            "Epoch 88/200\n",
            "780/780 [==============================] - 8s 11ms/step - loss: 1.9658 - accuracy: 0.2561\n",
            "Epoch 89/200\n",
            "780/780 [==============================] - 8s 11ms/step - loss: 1.9642 - accuracy: 0.2549\n",
            "Epoch 90/200\n",
            "780/780 [==============================] - 8s 11ms/step - loss: 1.9637 - accuracy: 0.2557\n",
            "Epoch 91/200\n",
            "780/780 [==============================] - 8s 11ms/step - loss: 1.9581 - accuracy: 0.2571\n",
            "Epoch 92/200\n",
            "780/780 [==============================] - 8s 11ms/step - loss: 1.9596 - accuracy: 0.2552\n",
            "Epoch 93/200\n",
            "780/780 [==============================] - 8s 11ms/step - loss: 1.9559 - accuracy: 0.2585\n",
            "Epoch 94/200\n",
            "780/780 [==============================] - 8s 11ms/step - loss: 1.9466 - accuracy: 0.2625\n",
            "Epoch 95/200\n",
            "780/780 [==============================] - 8s 11ms/step - loss: 1.9458 - accuracy: 0.2668\n",
            "Epoch 96/200\n",
            "780/780 [==============================] - 8s 11ms/step - loss: 1.9396 - accuracy: 0.2640\n",
            "Epoch 97/200\n",
            "780/780 [==============================] - 8s 11ms/step - loss: 1.9404 - accuracy: 0.2666\n",
            "Epoch 98/200\n",
            "780/780 [==============================] - 8s 11ms/step - loss: 1.9326 - accuracy: 0.2688\n",
            "Epoch 99/200\n",
            "780/780 [==============================] - 8s 11ms/step - loss: 1.9305 - accuracy: 0.2712\n",
            "Epoch 100/200\n",
            "780/780 [==============================] - 8s 11ms/step - loss: 1.9270 - accuracy: 0.2694\n",
            "Epoch 101/200\n",
            "780/780 [==============================] - 8s 11ms/step - loss: 1.9234 - accuracy: 0.2715\n",
            "Epoch 102/200\n",
            "780/780 [==============================] - 8s 11ms/step - loss: 1.9248 - accuracy: 0.2756\n",
            "Epoch 103/200\n",
            "780/780 [==============================] - 8s 11ms/step - loss: 1.9179 - accuracy: 0.2749\n",
            "Epoch 104/200\n",
            "780/780 [==============================] - 8s 11ms/step - loss: 1.9227 - accuracy: 0.2747\n",
            "Epoch 105/200\n",
            "780/780 [==============================] - 8s 11ms/step - loss: 1.9127 - accuracy: 0.2801\n",
            "Epoch 106/200\n",
            "780/780 [==============================] - 8s 11ms/step - loss: 1.9090 - accuracy: 0.2780\n",
            "Epoch 107/200\n",
            "780/780 [==============================] - 8s 11ms/step - loss: 1.9031 - accuracy: 0.2810\n",
            "Epoch 108/200\n",
            "780/780 [==============================] - 8s 11ms/step - loss: 1.9057 - accuracy: 0.2795\n",
            "Epoch 109/200\n",
            "780/780 [==============================] - 8s 11ms/step - loss: 1.9021 - accuracy: 0.2817\n",
            "Epoch 110/200\n",
            "780/780 [==============================] - 8s 11ms/step - loss: 1.9044 - accuracy: 0.2830\n",
            "Epoch 111/200\n",
            "780/780 [==============================] - 8s 11ms/step - loss: 1.8932 - accuracy: 0.2865\n",
            "Epoch 112/200\n",
            "780/780 [==============================] - 8s 11ms/step - loss: 1.8964 - accuracy: 0.2875\n",
            "Epoch 113/200\n",
            "780/780 [==============================] - 8s 11ms/step - loss: 1.8982 - accuracy: 0.2871\n",
            "Epoch 114/200\n",
            "780/780 [==============================] - 8s 11ms/step - loss: 1.8851 - accuracy: 0.2897\n",
            "Epoch 115/200\n",
            "780/780 [==============================] - 8s 11ms/step - loss: 1.8906 - accuracy: 0.2878\n",
            "Epoch 116/200\n",
            "780/780 [==============================] - 8s 11ms/step - loss: 1.8864 - accuracy: 0.2914\n",
            "Epoch 117/200\n",
            "780/780 [==============================] - 8s 11ms/step - loss: 1.8848 - accuracy: 0.2890\n",
            "Epoch 118/200\n",
            "780/780 [==============================] - 8s 11ms/step - loss: 1.8723 - accuracy: 0.2962\n",
            "Epoch 119/200\n",
            "780/780 [==============================] - 8s 11ms/step - loss: 1.8733 - accuracy: 0.2976\n",
            "Epoch 120/200\n",
            "780/780 [==============================] - 8s 11ms/step - loss: 1.8756 - accuracy: 0.2931\n",
            "Epoch 121/200\n",
            "780/780 [==============================] - 8s 11ms/step - loss: 1.8723 - accuracy: 0.2949\n",
            "Epoch 122/200\n",
            "780/780 [==============================] - 8s 11ms/step - loss: 1.8597 - accuracy: 0.2980\n",
            "Epoch 123/200\n",
            "780/780 [==============================] - 8s 11ms/step - loss: 1.8690 - accuracy: 0.2949\n",
            "Epoch 124/200\n",
            "780/780 [==============================] - 8s 11ms/step - loss: 1.8626 - accuracy: 0.3018\n",
            "Epoch 125/200\n",
            "780/780 [==============================] - 8s 11ms/step - loss: 1.8594 - accuracy: 0.2987\n",
            "Epoch 126/200\n",
            "780/780 [==============================] - 8s 11ms/step - loss: 1.8599 - accuracy: 0.2994\n",
            "Epoch 127/200\n",
            "780/780 [==============================] - 8s 11ms/step - loss: 1.8573 - accuracy: 0.3040\n",
            "Epoch 128/200\n",
            "780/780 [==============================] - 8s 11ms/step - loss: 1.8473 - accuracy: 0.3076\n",
            "Epoch 129/200\n",
            "780/780 [==============================] - 8s 11ms/step - loss: 1.8611 - accuracy: 0.2976\n",
            "Epoch 130/200\n",
            "780/780 [==============================] - 8s 11ms/step - loss: 1.8452 - accuracy: 0.3083\n",
            "Epoch 131/200\n",
            "780/780 [==============================] - 8s 11ms/step - loss: 1.8480 - accuracy: 0.3050\n",
            "Epoch 132/200\n",
            "780/780 [==============================] - 8s 11ms/step - loss: 1.8365 - accuracy: 0.3069\n",
            "Epoch 133/200\n",
            "780/780 [==============================] - 8s 11ms/step - loss: 1.8388 - accuracy: 0.3091\n",
            "Epoch 134/200\n",
            "780/780 [==============================] - 8s 11ms/step - loss: 1.8475 - accuracy: 0.3089\n",
            "Epoch 135/200\n",
            "780/780 [==============================] - 8s 11ms/step - loss: 1.8488 - accuracy: 0.3047\n",
            "Epoch 136/200\n",
            "780/780 [==============================] - 8s 11ms/step - loss: 1.8408 - accuracy: 0.3098\n",
            "Epoch 137/200\n",
            "780/780 [==============================] - 8s 11ms/step - loss: 1.8250 - accuracy: 0.3155\n",
            "Epoch 138/200\n",
            "780/780 [==============================] - 8s 11ms/step - loss: 1.8303 - accuracy: 0.3137\n",
            "Epoch 139/200\n",
            "780/780 [==============================] - 8s 11ms/step - loss: 1.8243 - accuracy: 0.3134\n",
            "Epoch 140/200\n",
            "780/780 [==============================] - 8s 11ms/step - loss: 1.8310 - accuracy: 0.3121\n",
            "Epoch 141/200\n",
            "780/780 [==============================] - 8s 11ms/step - loss: 1.8274 - accuracy: 0.3199\n",
            "Epoch 142/200\n",
            "780/780 [==============================] - 8s 11ms/step - loss: 1.8185 - accuracy: 0.3174\n",
            "Epoch 143/200\n",
            "780/780 [==============================] - 8s 11ms/step - loss: 1.8182 - accuracy: 0.3179\n",
            "Epoch 144/200\n",
            "780/780 [==============================] - 8s 11ms/step - loss: 1.8216 - accuracy: 0.3174\n",
            "Epoch 145/200\n",
            "780/780 [==============================] - 8s 11ms/step - loss: 1.8239 - accuracy: 0.3186\n",
            "Epoch 146/200\n",
            "780/780 [==============================] - 8s 11ms/step - loss: 1.8213 - accuracy: 0.3186\n",
            "Epoch 147/200\n",
            "780/780 [==============================] - 8s 11ms/step - loss: 1.8186 - accuracy: 0.3175\n",
            "Epoch 148/200\n",
            "780/780 [==============================] - 8s 11ms/step - loss: 1.8119 - accuracy: 0.3207\n",
            "Epoch 149/200\n",
            "780/780 [==============================] - 8s 11ms/step - loss: 1.8092 - accuracy: 0.3199\n",
            "Epoch 150/200\n",
            "780/780 [==============================] - 8s 11ms/step - loss: 1.8091 - accuracy: 0.3220\n",
            "Epoch 151/200\n",
            "780/780 [==============================] - 8s 11ms/step - loss: 1.8002 - accuracy: 0.3246\n",
            "Epoch 152/200\n",
            "780/780 [==============================] - 8s 11ms/step - loss: 1.8055 - accuracy: 0.3219\n",
            "Epoch 153/200\n",
            "780/780 [==============================] - 8s 11ms/step - loss: 1.7974 - accuracy: 0.3272\n",
            "Epoch 154/200\n",
            "780/780 [==============================] - 8s 11ms/step - loss: 1.8019 - accuracy: 0.3266\n",
            "Epoch 155/200\n",
            "780/780 [==============================] - 8s 11ms/step - loss: 1.8103 - accuracy: 0.3209\n",
            "Epoch 156/200\n",
            "780/780 [==============================] - 8s 11ms/step - loss: 1.8011 - accuracy: 0.3225\n",
            "Epoch 157/200\n",
            "780/780 [==============================] - 8s 11ms/step - loss: 1.7916 - accuracy: 0.3301\n",
            "Epoch 158/200\n",
            "780/780 [==============================] - 8s 11ms/step - loss: 1.7925 - accuracy: 0.3266\n",
            "Epoch 159/200\n",
            "780/780 [==============================] - 8s 11ms/step - loss: 1.7846 - accuracy: 0.3319\n",
            "Epoch 160/200\n",
            "780/780 [==============================] - 8s 11ms/step - loss: 1.7817 - accuracy: 0.3367\n",
            "Epoch 161/200\n",
            "780/780 [==============================] - 8s 11ms/step - loss: 1.7875 - accuracy: 0.3284\n",
            "Epoch 162/200\n",
            "780/780 [==============================] - 8s 11ms/step - loss: 1.7816 - accuracy: 0.3320\n",
            "Epoch 163/200\n",
            "780/780 [==============================] - 8s 11ms/step - loss: 1.7864 - accuracy: 0.3350\n",
            "Epoch 164/200\n",
            "780/780 [==============================] - 8s 11ms/step - loss: 1.7897 - accuracy: 0.3293\n",
            "Epoch 165/200\n",
            "780/780 [==============================] - 8s 11ms/step - loss: 1.7751 - accuracy: 0.3385\n",
            "Epoch 166/200\n",
            "780/780 [==============================] - 8s 11ms/step - loss: 1.7798 - accuracy: 0.3341\n",
            "Epoch 167/200\n",
            "780/780 [==============================] - 8s 11ms/step - loss: 1.7763 - accuracy: 0.3351\n",
            "Epoch 168/200\n",
            "780/780 [==============================] - 8s 11ms/step - loss: 1.7815 - accuracy: 0.3343\n",
            "Epoch 169/200\n",
            "780/780 [==============================] - 8s 11ms/step - loss: 1.7769 - accuracy: 0.3367\n",
            "Epoch 170/200\n",
            "780/780 [==============================] - 8s 11ms/step - loss: 1.7747 - accuracy: 0.3337\n",
            "Epoch 171/200\n",
            "780/780 [==============================] - 8s 11ms/step - loss: 1.7752 - accuracy: 0.3371\n",
            "Epoch 172/200\n",
            "780/780 [==============================] - 9s 11ms/step - loss: 1.7733 - accuracy: 0.3373\n",
            "Epoch 173/200\n",
            "780/780 [==============================] - 8s 11ms/step - loss: 1.7669 - accuracy: 0.3382\n",
            "Epoch 174/200\n",
            "780/780 [==============================] - 8s 11ms/step - loss: 1.7647 - accuracy: 0.3392\n",
            "Epoch 175/200\n",
            "780/780 [==============================] - 8s 11ms/step - loss: 1.7657 - accuracy: 0.3400\n",
            "Epoch 176/200\n",
            "780/780 [==============================] - 8s 11ms/step - loss: 1.7577 - accuracy: 0.3432\n",
            "Epoch 177/200\n",
            "780/780 [==============================] - 8s 11ms/step - loss: 1.7569 - accuracy: 0.3429\n",
            "Epoch 178/200\n",
            "780/780 [==============================] - 8s 11ms/step - loss: 1.7624 - accuracy: 0.3388\n",
            "Epoch 179/200\n",
            "780/780 [==============================] - 8s 11ms/step - loss: 1.7576 - accuracy: 0.3420\n",
            "Epoch 180/200\n",
            "780/780 [==============================] - 8s 11ms/step - loss: 1.7598 - accuracy: 0.3396\n",
            "Epoch 181/200\n",
            "780/780 [==============================] - 8s 11ms/step - loss: 1.7495 - accuracy: 0.3447\n",
            "Epoch 182/200\n",
            "780/780 [==============================] - 8s 11ms/step - loss: 1.7654 - accuracy: 0.3361\n",
            "Epoch 183/200\n",
            "780/780 [==============================] - 8s 11ms/step - loss: 1.7455 - accuracy: 0.3455\n",
            "Epoch 184/200\n",
            "780/780 [==============================] - 8s 11ms/step - loss: 1.7528 - accuracy: 0.3487\n",
            "Epoch 185/200\n",
            "780/780 [==============================] - 8s 11ms/step - loss: 1.7518 - accuracy: 0.3468\n",
            "Epoch 186/200\n",
            "780/780 [==============================] - 9s 11ms/step - loss: 1.7425 - accuracy: 0.3511\n",
            "Epoch 187/200\n",
            "780/780 [==============================] - 8s 11ms/step - loss: 1.7532 - accuracy: 0.3442\n",
            "Epoch 188/200\n",
            "780/780 [==============================] - 8s 11ms/step - loss: 1.7390 - accuracy: 0.3463\n",
            "Epoch 189/200\n",
            "780/780 [==============================] - 8s 11ms/step - loss: 1.7400 - accuracy: 0.3500\n",
            "Epoch 190/200\n",
            "780/780 [==============================] - 8s 11ms/step - loss: 1.7494 - accuracy: 0.3434\n",
            "Epoch 191/200\n",
            "780/780 [==============================] - 8s 11ms/step - loss: 1.7488 - accuracy: 0.3450\n",
            "Epoch 192/200\n",
            "780/780 [==============================] - 8s 11ms/step - loss: 1.7477 - accuracy: 0.3471\n",
            "Epoch 193/200\n",
            "780/780 [==============================] - 8s 11ms/step - loss: 1.7296 - accuracy: 0.3552\n",
            "Epoch 194/200\n",
            "780/780 [==============================] - 9s 11ms/step - loss: 1.7349 - accuracy: 0.3525\n",
            "Epoch 195/200\n",
            "780/780 [==============================] - 8s 11ms/step - loss: 1.7365 - accuracy: 0.3526\n",
            "Epoch 196/200\n",
            "780/780 [==============================] - 8s 11ms/step - loss: 1.7350 - accuracy: 0.3536\n",
            "Epoch 197/200\n",
            "780/780 [==============================] - 8s 11ms/step - loss: 1.7388 - accuracy: 0.3511\n",
            "Epoch 198/200\n",
            "780/780 [==============================] - 8s 11ms/step - loss: 1.7332 - accuracy: 0.3537\n",
            "Epoch 199/200\n",
            "780/780 [==============================] - 8s 11ms/step - loss: 1.7229 - accuracy: 0.3605\n",
            "Epoch 200/200\n",
            "780/780 [==============================] - 8s 11ms/step - loss: 1.7307 - accuracy: 0.3577\n"
          ],
          "name": "stdout"
        }
      ]
    },
    {
      "cell_type": "code",
      "metadata": {
        "id": "qsmginoL0JXU"
      },
      "source": [
        "model3.save_weights('/content/gdrive/MyDrive/Task1Pk/model3/')\n"
      ],
      "execution_count": null,
      "outputs": []
    },
    {
      "cell_type": "code",
      "metadata": {
        "colab": {
          "base_uri": "https://localhost:8080/"
        },
        "id": "LwmXBGGE6vxL",
        "outputId": "b78f224d-61a6-4879-d04a-852a828c05e8"
      },
      "source": [
        "from keras.datasets import mnist\n",
        "from keras.models import Sequential\n",
        "from keras.layers import Convolution2D, MaxPooling2D\n",
        "from keras.layers import Flatten\n",
        "from keras.utils import np_utils\n",
        "(X_train1, Y_train1), (X_test, Y_test) = mnist.load_data()\n",
        "X_train1 = X_train1.reshape(60000, 28, 28, 1)\n",
        "X_test = X_test.reshape(10000, 28, 28, 1)\n",
        "# Create a new model instance\n",
        "model3 = create_model()\n",
        "# Restore the weights\n",
        "model3.load_weights('/content/gdrive/MyDrive/Task1Pk/model3/')\n",
        "m = model3.fit(\n",
        "       X_train1,\n",
        "       Y_train1,validation_data=(X_test, Y_test),\n",
        "       batch_size = 77,\n",
        "       epochs=20, \n",
        "       verbose = 1 ,# Verbosity mode. 0 = silent, 1 = progress bar, 2 = one line per epoch.\n",
        "       shuffle = True\n",
        "       )\n",
        "loss, acc = model3.evaluate(X_test, Y_test, verbose=2)\n",
        "print(\"Test accuracy {:5.2f}%\".format(100 * acc))"
      ],
      "execution_count": null,
      "outputs": [
        {
          "output_type": "stream",
          "text": [
            "Model: \"sequential_6\"\n",
            "_________________________________________________________________\n",
            "Layer (type)                 Output Shape              Param #   \n",
            "=================================================================\n",
            "conv2d_24 (Conv2D)           (None, 28, 18, 32)        320       \n",
            "_________________________________________________________________\n",
            "max_pooling2d_18 (MaxPooling (None, 14, 9, 32)         0         \n",
            "_________________________________________________________________\n",
            "conv2d_25 (Conv2D)           (None, 14, 9, 64)         18496     \n",
            "_________________________________________________________________\n",
            "max_pooling2d_19 (MaxPooling (None, 7, 4, 64)          0         \n",
            "_________________________________________________________________\n",
            "conv2d_26 (Conv2D)           (None, 7, 4, 128)         73856     \n",
            "_________________________________________________________________\n",
            "max_pooling2d_20 (MaxPooling (None, 3, 2, 128)         0         \n",
            "_________________________________________________________________\n",
            "conv2d_27 (Conv2D)           (None, 3, 2, 128)         147584    \n",
            "_________________________________________________________________\n",
            "average_pooling2d_6 (Average (None, 1, 1, 128)         0         \n",
            "_________________________________________________________________\n",
            "flatten_6 (Flatten)          (None, 128)               0         \n",
            "_________________________________________________________________\n",
            "dropout_6 (Dropout)          (None, 128)               0         \n",
            "_________________________________________________________________\n",
            "dense_13 (Dense)             (None, 1024)              132096    \n",
            "_________________________________________________________________\n",
            "dense_14 (Dense)             (None, 63)                64575     \n",
            "=================================================================\n",
            "Total params: 436,927\n",
            "Trainable params: 436,927\n",
            "Non-trainable params: 0\n",
            "_________________________________________________________________\n",
            "Epoch 1/20\n",
            "WARNING:tensorflow:Model was constructed with shape (None, 28, 18, 1) for input KerasTensor(type_spec=TensorSpec(shape=(None, 28, 18, 1), dtype=tf.float32, name='conv2d_24_input'), name='conv2d_24_input', description=\"created by layer 'conv2d_24_input'\"), but it was called on an input with incompatible shape (None, 28, 28, 1).\n",
            "WARNING:tensorflow:Model was constructed with shape (None, 28, 18, 1) for input KerasTensor(type_spec=TensorSpec(shape=(None, 28, 18, 1), dtype=tf.float32, name='conv2d_24_input'), name='conv2d_24_input', description=\"created by layer 'conv2d_24_input'\"), but it was called on an input with incompatible shape (None, 28, 28, 1).\n",
            "772/780 [============================>.] - ETA: 0s - loss: 505.0620 - accuracy: 0.1120WARNING:tensorflow:Model was constructed with shape (None, 28, 18, 1) for input KerasTensor(type_spec=TensorSpec(shape=(None, 28, 18, 1), dtype=tf.float32, name='conv2d_24_input'), name='conv2d_24_input', description=\"created by layer 'conv2d_24_input'\"), but it was called on an input with incompatible shape (None, 28, 28, 1).\n",
            "780/780 [==============================] - 4s 5ms/step - loss: 500.2577 - accuracy: 0.1120 - val_loss: 2.3034 - val_accuracy: 0.0984\n",
            "Epoch 2/20\n",
            "780/780 [==============================] - 4s 5ms/step - loss: 2.3029 - accuracy: 0.1040 - val_loss: 2.3048 - val_accuracy: 0.1137\n",
            "Epoch 3/20\n",
            "780/780 [==============================] - 4s 5ms/step - loss: 2.3160 - accuracy: 0.1053 - val_loss: 2.3039 - val_accuracy: 0.1135\n",
            "Epoch 4/20\n",
            "780/780 [==============================] - 4s 5ms/step - loss: 2.3038 - accuracy: 0.1025 - val_loss: 2.3021 - val_accuracy: 0.1135\n",
            "Epoch 5/20\n",
            "780/780 [==============================] - 4s 5ms/step - loss: 2.3034 - accuracy: 0.1063 - val_loss: 2.3037 - val_accuracy: 0.1135\n",
            "Epoch 6/20\n",
            "780/780 [==============================] - 4s 5ms/step - loss: 2.3040 - accuracy: 0.1102 - val_loss: 2.3036 - val_accuracy: 0.1028\n",
            "Epoch 7/20\n",
            "780/780 [==============================] - 4s 5ms/step - loss: 2.3038 - accuracy: 0.1065 - val_loss: 2.3027 - val_accuracy: 0.1135\n",
            "Epoch 8/20\n",
            "780/780 [==============================] - 4s 5ms/step - loss: 2.3035 - accuracy: 0.1051 - val_loss: 2.3031 - val_accuracy: 0.1135\n",
            "Epoch 9/20\n",
            "780/780 [==============================] - 4s 5ms/step - loss: 2.3043 - accuracy: 0.1068 - val_loss: 2.3025 - val_accuracy: 0.1135\n",
            "Epoch 10/20\n",
            "780/780 [==============================] - 4s 5ms/step - loss: 2.3045 - accuracy: 0.1073 - val_loss: 2.3078 - val_accuracy: 0.1135\n",
            "Epoch 11/20\n",
            "780/780 [==============================] - 4s 5ms/step - loss: 2.3108 - accuracy: 0.1066 - val_loss: 2.3023 - val_accuracy: 0.1011\n",
            "Epoch 12/20\n",
            "780/780 [==============================] - 4s 5ms/step - loss: 2.3048 - accuracy: 0.1076 - val_loss: 2.3042 - val_accuracy: 0.1029\n",
            "Epoch 13/20\n",
            "780/780 [==============================] - 4s 5ms/step - loss: 2.3060 - accuracy: 0.1071 - val_loss: 2.3054 - val_accuracy: 0.1136\n",
            "Epoch 14/20\n",
            "780/780 [==============================] - 4s 5ms/step - loss: 2.3055 - accuracy: 0.0996 - val_loss: 2.3048 - val_accuracy: 0.1011\n",
            "Epoch 15/20\n",
            "780/780 [==============================] - 4s 5ms/step - loss: 2.3053 - accuracy: 0.1051 - val_loss: 2.3040 - val_accuracy: 0.1011\n",
            "Epoch 16/20\n",
            "780/780 [==============================] - 4s 5ms/step - loss: 2.3049 - accuracy: 0.1066 - val_loss: 2.3031 - val_accuracy: 0.1136\n",
            "Epoch 17/20\n",
            "780/780 [==============================] - 4s 5ms/step - loss: 2.3049 - accuracy: 0.1081 - val_loss: 2.3044 - val_accuracy: 0.1136\n",
            "Epoch 18/20\n",
            "780/780 [==============================] - 4s 5ms/step - loss: 2.3055 - accuracy: 0.1056 - val_loss: 2.3056 - val_accuracy: 0.0975\n",
            "Epoch 19/20\n",
            "780/780 [==============================] - 4s 5ms/step - loss: 2.3048 - accuracy: 0.1080 - val_loss: 2.3034 - val_accuracy: 0.0975\n",
            "Epoch 20/20\n",
            "780/780 [==============================] - 4s 5ms/step - loss: 2.3050 - accuracy: 0.1028 - val_loss: 2.3042 - val_accuracy: 0.1010\n",
            "313/313 - 0s - loss: 2.3042 - accuracy: 0.1010\n",
            "Test accuracy is: 10.10%\n"
          ],
          "name": "stdout"
        }
      ]
    },
    {
      "cell_type": "code",
      "metadata": {
        "colab": {
          "base_uri": "https://localhost:8080/",
          "height": 350
        },
        "id": "Ve2QdvLTeg6j",
        "outputId": "1181336e-5f84-4c9b-c73c-3b525997f79c"
      },
      "source": [
        "fig, axs = plt.subplots(nrows=1, ncols=2, figsize=(15,5))\n",
        "axs[0].plot(m.history['accuracy'])\n",
        "axs[0].plot(m.history['val_accuracy'])\n",
        "axs[0].set_title('Model accuracy')\n",
        "axs[0].legend(['Train', 'Val'], loc='upper left')\n",
        "\n",
        "axs[1].plot(m.history['loss'])\n",
        "axs[1].plot(m.history['val_loss'])\n",
        "axs[1].set_title('Model loss')\n",
        "axs[1].legend(['Train', 'Val'], loc='upper left')\n",
        "\n",
        "for ax in axs.flat:\n",
        "    ax.set(xlabel='Epoch')"
      ],
      "execution_count": null,
      "outputs": [
        {
          "output_type": "display_data",
          "data": {
            "image/png": "[encoded data removed]",
            "text/plain": [
              "<Figure size 1080x360 with 2 Axes>"
            ]
          },
          "metadata": {
            "tags": [],
            "needs_background": "light"
          }
        }
      ]
    },
    {
      "cell_type": "code",
      "metadata": {
        "id": "jUzzbxgY70Ul"
      },
      "source": [
        "model3.save_weights('/content/gdrive/MyDrive/Task1Pk/model4/')"
      ],
      "execution_count": null,
      "outputs": []
    },
    {
      "cell_type": "code",
      "metadata": {
        "id": "K7Vvr_7Kdg9e"
      },
      "source": [
        ""
      ],
      "execution_count": 1,
      "outputs": []
    },
    {
      "cell_type": "markdown",
      "metadata": {
        "id": "GvsRxV1haO0t"
      },
      "source": [
        "Try and do qualitative analysis of what's different in this dataset?\n",
        "\n",
        "\n",
        "**Answer**\n",
        "\n",
        "In this dataset the digits were organized in floders from 0 to 9\n",
        "The digits were randomly shuffeled and data set was not structured\n",
        "Therefore the network could not train\n",
        "\n"
      ]
    },
    {
      "cell_type": "code",
      "metadata": {
        "id": "tSSMZ4pEd-AI"
      },
      "source": [
        ""
      ],
      "execution_count": null,
      "outputs": []
    }
  ]
}